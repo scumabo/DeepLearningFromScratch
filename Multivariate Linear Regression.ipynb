{
 "cells": [
  {
   "cell_type": "markdown",
   "metadata": {},
   "source": [
    "## An overkill implementation of multivariate linear regression by dividing the learning process into sevel small steps."
   ]
  },
  {
   "cell_type": "code",
   "execution_count": 1,
   "metadata": {},
   "outputs": [],
   "source": [
    "import numpy as np\n",
    "import pandas as pd\n",
    "import matplotlib.pyplot as plt\n",
    "from sklearn.linear_model import LinearRegression\n",
    "%matplotlib inline"
   ]
  },
  {
   "cell_type": "code",
   "execution_count": 2,
   "metadata": {},
   "outputs": [],
   "source": [
    "def initialize_parameters(m):\n",
    "    \"\"\"\n",
    "    Argument:\n",
    "    m -- number of features (dimensions)\n",
    "    \n",
    "    Returns:\n",
    "    parameters -- dictionary containing:\n",
    "                W -- weight matrix (1, m)\n",
    "                b -- bias (scalar)\n",
    "    \"\"\"\n",
    "    np.random.seed(1)\n",
    "    \n",
    "    W = np.random.randn(1, m) * 0.01\n",
    "    b = 0\n",
    "    \n",
    "    parameters = {\"W\" : W,\n",
    "                  \"b\" : b}\n",
    "    \n",
    "    return parameters"
   ]
  },
  {
   "cell_type": "code",
   "execution_count": 3,
   "metadata": {},
   "outputs": [],
   "source": [
    "def forward_prop(X, parameters):\n",
    "    \"\"\"\n",
    "    Argument:\n",
    "    X -- data (number of features (m), number of examples(n))\n",
    "    parameters -- W and b\n",
    "    \n",
    "    Returns:\n",
    "    Y_hat -- current regression\n",
    "    \"\"\"\n",
    "    W = parameters[\"W\"]\n",
    "    b = parameters[\"b\"]\n",
    "    \n",
    "    Y_hat = np.dot(W, X) + b\n",
    "    \n",
    "    assert(Y_hat.shape == (1, X.shape[1]))\n",
    "    \n",
    "    return Y_hat"
   ]
  },
  {
   "cell_type": "code",
   "execution_count": 4,
   "metadata": {},
   "outputs": [],
   "source": [
    "def l2_cost(Y_hat, Y):\n",
    "    \"\"\"\n",
    "    Argument:\n",
    "    Y_hat -- predict values (1, number of examples)\n",
    "    Y --     true values (1, number of examples)\n",
    "    \n",
    "    Returns:\n",
    "    l2 (MSE) cost\n",
    "    \"\"\"\n",
    "    return np.mean((Y_hat - Y) ** 2)"
   ]
  },
  {
   "cell_type": "code",
   "execution_count": 5,
   "metadata": {},
   "outputs": [],
   "source": [
    "def backward_prop(X, Y, Y_hat):\n",
    "    \"\"\"\n",
    "    Argument:\n",
    "    X -- data (number of features (m), number of examples(n))\n",
    "    Y -- true values (1, number of examples(n))\n",
    "    Y_hat -- predict values (1, number of examples(n))\n",
    "    \"\"\"\n",
    "    n = Y.shape[1]\n",
    "    \n",
    "    dW = (1 / n) * 2 * np.dot((Y_hat - Y), X.T)\n",
    "    db = np.mean(2 * (Y_hat - Y), keepdims = True)\n",
    "    \n",
    "    assert(dW.shape == (1, X.shape[0]))\n",
    "    assert(db.shape == (1, 1))\n",
    "    \n",
    "    return dW, db"
   ]
  },
  {
   "cell_type": "code",
   "execution_count": 6,
   "metadata": {},
   "outputs": [],
   "source": [
    "def update_parameters(parameters, dW, db, learning_rate):\n",
    "    \"\"\"\n",
    "    Argument:\n",
    "    parameters -- W and b\n",
    "    \n",
    "    Return:\n",
    "    parameters\n",
    "    \"\"\"\n",
    "    parameters[\"W\"] = parameters[\"W\"] - learning_rate * dW\n",
    "    parameters[\"b\"] = parameters[\"b\"] - learning_rate * db\n",
    "    \n",
    "    return parameters"
   ]
  },
  {
   "cell_type": "code",
   "execution_count": 7,
   "metadata": {},
   "outputs": [],
   "source": [
    "def linear_regression_model(X, Y, learning_rate = 0.0075, num_iterations = 1000, print_cost = False):\n",
    "    \n",
    "    np.random.seed(1)\n",
    "    (m, n) = (X.shape[0], X.shape[1])\n",
    "    costs = []\n",
    "    \n",
    "    parameters = initialize_parameters(m)\n",
    "    \n",
    "    for i in range(num_iterations):\n",
    "        Y_hat = forward_prop(X, parameters)\n",
    "        cost = l2_cost(Y_hat, Y)\n",
    "        dW, db = backward_prop(X, Y, Y_hat)\n",
    "        parameters = update_parameters(parameters, dW, db, learning_rate)\n",
    "        \n",
    "        if print_cost and i % 10 == 0:\n",
    "            print(\"Cost after iteration {}: {}\".format(i, np.squeeze(cost)))\n",
    "            \n",
    "        costs.append(cost)\n",
    "    \n",
    "    # plot the cost\n",
    "#     plt.plot(np.squeeze(costs))\n",
    "#     plt.ylabel('cost')\n",
    "#     plt.xlabel('iterations')\n",
    "#     plt.title(\"learning rate = \" + str(learning_rate))\n",
    "#     plt.show()\n",
    "    \n",
    "    return parameters"
   ]
  },
  {
   "cell_type": "markdown",
   "metadata": {},
   "source": [
    "## Univariate data"
   ]
  },
  {
   "cell_type": "code",
   "execution_count": 8,
   "metadata": {},
   "outputs": [],
   "source": [
    "path = '..\\data\\ex1data1.txt'\n",
    "data = pd.read_csv(path, header=None).values\n",
    "X = data[:, [0]]\n",
    "Y = data[:, [1]]\n",
    "\n",
    "parameters = linear_regression_model(X.T, Y.T, learning_rate = 0.0075, num_iterations = 1500, print_cost = False)"
   ]
  },
  {
   "cell_type": "markdown",
   "metadata": {},
   "source": [
    "## Compare with Scikit-learn implementation"
   ]
  },
  {
   "cell_type": "code",
   "execution_count": 9,
   "metadata": {},
   "outputs": [
    {
     "data": {
      "image/png": "[encoded data removed]",
      "text/plain": [
       "<Figure size 432x288 with 1 Axes>"
      ]
     },
     "metadata": {},
     "output_type": "display_data"
    }
   ],
   "source": [
    "xx = np.arange(5, 23)\n",
    "yy = parameters[\"W\"] * xx + parameters[\"b\"]\n",
    "\n",
    "plt.scatter(X, Y)\n",
    "plt.plot(xx, yy.T, label='My Linear regression')\n",
    "\n",
    "# Compare with Scikit-learn Linear regression \n",
    "regr = LinearRegression()\n",
    "regr.fit(X, Y)\n",
    "plt.plot(xx, (regr.intercept_+regr.coef_*xx).T, label='Linear regression (Scikit-learn GLM)')\n",
    "\n",
    "plt.xlim(4,24)\n",
    "plt.xlabel('Population of City in 10,000s')\n",
    "plt.ylabel('Profit in $10,000s')\n",
    "plt.legend(loc=4);"
   ]
  },
  {
   "cell_type": "markdown",
   "metadata": {},
   "source": [
    "## Multivariate data"
   ]
  },
  {
   "cell_type": "code",
   "execution_count": 10,
   "metadata": {},
   "outputs": [],
   "source": [
    "path = '..\\data\\ex1data2.txt'\n",
    "data = pd.read_csv(path, header=None).values\n",
    "X = data[:, 0:-1]\n",
    "Y = data[:, [-1]]\n",
    "X = (X - np.mean(X)) / np.std(X)\n",
    "\n",
    "parameters = linear_regression_model(X.T, Y.T, learning_rate = 0.0075, num_iterations = 1000, print_cost = False)"
   ]
  },
  {
   "cell_type": "code",
   "execution_count": 11,
   "metadata": {},
   "outputs": [
    {
     "name": "stdout",
     "output_type": "stream",
     "text": [
      "my weights = [[ 153649.26395906 -102174.44153009]]\n",
      "sklearn weights = [[  159125.15353818 -9988017.38933275]]\n"
     ]
    }
   ],
   "source": [
    "regr = LinearRegression()\n",
    "regr.fit(X, Y)\n",
    "print(\"my weights = \" + str(parameters[\"W\"]))\n",
    "print(\"sklearn weights = \" + str(regr.coef_))"
   ]
  }
 ],
 "metadata": {
  "kernelspec": {
   "display_name": "Python 3",
   "language": "python",
   "name": "python3"
  },
  "language_info": {
   "codemirror_mode": {
    "name": "ipython",
    "version": 3
   },
   "file_extension": ".py",
   "mimetype": "text/x-python",
   "name": "python",
   "nbconvert_exporter": "python",
   "pygments_lexer": "ipython3",
   "version": "3.6.5"
  }
 },
 "nbformat": 4,
 "nbformat_minor": 2
}
