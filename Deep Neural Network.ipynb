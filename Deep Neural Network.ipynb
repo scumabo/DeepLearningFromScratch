{
 "cells": [
  {
   "cell_type": "markdown",
   "metadata": {},
   "source": [
    "In the previous post, we have classified the MNIST dataset using softmax regression. We got nearly 90% accuracy for both training and testing data which is pretty bad for production. In this notebook, let's build a deeper neural network and see if it can helps improving the classification accuracy. Specifically we will build a L layer neural network with L-1 hidden layers.\n",
    "\n",
    "Let's first do some preprocessing and prepare our data,"
   ]
  },
  {
   "cell_type": "code",
   "execution_count": 1,
   "metadata": {},
   "outputs": [
    {
     "name": "stdout",
     "output_type": "stream",
     "text": [
      "Number of training examples = 31500\n",
      "Number of testing examples = 10500\n",
      "Number of features = 784\n"
     ]
    },
    {
     "data": {
      "image/png": "[encoded data removed]",
      "text/plain": [
       "<Figure size 432x288 with 1 Axes>"
      ]
     },
     "metadata": {},
     "output_type": "display_data"
    }
   ],
   "source": [
    "import numpy as np\n",
    "import pandas as pd\n",
    "import matplotlib.pyplot as plt\n",
    "from sklearn.model_selection import train_test_split\n",
    "%matplotlib inline\n",
    "\n",
    "data = pd.read_csv(\"data/MNIST_train.csv\").values\n",
    "\n",
    "X_data = data[:, 1:]\n",
    "Y_data = data[:, [0]]\n",
    "\n",
    "X_train, X_test, Y_train, Y_test = train_test_split(X_data, Y_data, random_state = 0)\n",
    "\n",
    "print(\"Number of training examples = \" + str(X_train.shape[0]) )\n",
    "print(\"Number of testing examples = \" + str(X_test.shape[0]) )\n",
    "print(\"Number of features = \" +  str(X_train.shape[1]) )\n",
    "\n",
    "index = 10\n",
    "sampleImg = np.reshape(X_train[index, :], [28, 28])\n",
    "\n",
    "ax = plt.imshow(sampleImg)\n",
    "plt.title(\"label is \" + str(Y_train[index, :]))\n",
    "\n",
    "X_train = X_train / 255\n",
    "X_test = X_test / 255"
   ]
  },
  {
   "cell_type": "code",
   "execution_count": 2,
   "metadata": {},
   "outputs": [],
   "source": [
    "def one_hot_matrix(Y, num_class):\n",
    "    \"\"\"\n",
    "    Convert an array of Y to its one_hot_matrix\n",
    "    \n",
    "    Arguments:\n",
    "    Y -- array (number of examples, 1)\n",
    "    num_class -- num of classes\n",
    "    \n",
    "    Return:\n",
    "    Y_one_hot -- (number of examples, num_class)\n",
    "    \"\"\"\n",
    "    Y_one_hot = np.zeros((Y.shape[0], num_class))\n",
    "    Y_one_hot[np.arange(Y.shape[0]), Y.T] = 1\n",
    "    \n",
    "    return Y_one_hot"
   ]
  },
  {
   "cell_type": "code",
   "execution_count": 3,
   "metadata": {},
   "outputs": [
    {
     "name": "stdout",
     "output_type": "stream",
     "text": [
      "Letter 9 converted to [0. 0. 0. 0. 0. 0. 0. 0. 0. 1.]\n"
     ]
    }
   ],
   "source": [
    "Y_train_one_hot = one_hot_matrix(Y_train, 10)\n",
    "Y_test_one_hot = one_hot_matrix(Y_test, 10)\n",
    "\n",
    "index = 2\n",
    "print(\"Letter \" + str(Y_train[index, 0]) + \" converted to \" + str(Y_train_one_hot[index, :]))"
   ]
  },
  {
   "cell_type": "markdown",
   "metadata": {},
   "source": [
    "<img src=\"images/NN_cg.jpeg\">\n",
    "\n",
    "## 1. Initialize parameters\n",
    "Our model structure is [LINEAR -> RELU] X (L-1) -> LINEAR -> SOFTMAX, i.e., it has L-1 hidden layers using a ReLU activation function followed by an output layer with a softmax activation function.\n",
    "\n",
    "We will store $n^{[l]}$, the number of units in different layers, in a variable layer_dims. For example, layer_dims = $[1000, 100, 10]$ means we have $1000$ input features, one hidden layer with $100$ units and an output layer with $10$ units. Thus, the shape of $W_1$ is $(1000, 100)$, $b_1$ is $(1, 100)$, $W_2$ is $(100, 10)$, and $b_2$ is $(1, 10)$.\n",
    "\n"
   ]
  },
  {
   "cell_type": "code",
   "execution_count": 4,
   "metadata": {},
   "outputs": [],
   "source": [
    "def initialize_parameters(layer_dims):\n",
    "    \"\"\"\n",
    "    Arguments:\n",
    "    layer_dims -- python list containing the dimensions of each layer in our network.\n",
    "    \n",
    "    Returns:\n",
    "    parameters -- python dictionary containing parameters \"W1\", \"b1\", ... , \"WL\", \"bL\"\n",
    "                  Wl -- weight matrix of shape (layer_dims[l-1], layer_dims[l])\n",
    "                  bl -- bias matrix of shape (1, layer_dims[l])\n",
    "    \"\"\"\n",
    "    \n",
    "    np.random.seed(1)\n",
    "    parameters = {}\n",
    "    L_plus_one = len(layer_dims)        # number of layers + 1\n",
    "    \n",
    "    for l in range(1, L_plus_one):\n",
    "        parameters['W' + str(l)] = np.random.randn(layer_dims[l-1], layer_dims[l]) * 0.01\n",
    "        parameters['b' + str(l)] = np.zeros((1, layer_dims[l]))\n",
    "        \n",
    "    return parameters"
   ]
  },
  {
   "cell_type": "markdown",
   "metadata": {},
   "source": [
    "## 2. Forward propagation"
   ]
  },
  {
   "cell_type": "code",
   "execution_count": 5,
   "metadata": {},
   "outputs": [],
   "source": [
    "def linear_forward(A, W, b):\n",
    "    \"\"\"\n",
    "    Arguments:\n",
    "    A -- activations from previous layer (or input data): (num of examples, size of previous layer)\n",
    "    W -- weight matrix (size of previous layer, size of current layer)\n",
    "    b -- bias vector (1, size of current layer)\n",
    "    \n",
    "    Return: \n",
    "    Z -- (num of examples, size of current layer)\n",
    "    \"\"\"\n",
    "    \n",
    "    Z = np.dot(A, W) + b\n",
    "    cache = (A, W, b)\n",
    "    \n",
    "    assert(Z.shape == (A.shape[0], W.shape[1]) )\n",
    "    \n",
    "    return Z, cache"
   ]
  },
  {
   "cell_type": "code",
   "execution_count": 6,
   "metadata": {},
   "outputs": [],
   "source": [
    "def soft_max(Z):\n",
    "    \"\"\"\n",
    "    Arguments:\n",
    "    Z -- (num of examples, size of current layer (or number of classes))\n",
    "    \n",
    "    Return:\n",
    "    A -- softmax matrix (m, size of current layer (or number of classes)) \n",
    "    \"\"\"\n",
    "    exp_Z = np.exp(Z)\n",
    "    A = exp_Z / exp_Z.sum(axis = 1, keepdims = True) # sum along columns\n",
    "    \n",
    "    assert(A.shape == Z.shape )\n",
    "    \n",
    "    return A"
   ]
  },
  {
   "cell_type": "code",
   "execution_count": 7,
   "metadata": {},
   "outputs": [],
   "source": [
    "def relu(Z):\n",
    "    \"\"\"\n",
    "    Arguments:\n",
    "    Z -- (num of examples, size of current layer)\n",
    "    \n",
    "    Return:\n",
    "    A -- relu: 0 for Z < 0 or Z for Z >=0\n",
    "    \"\"\"\n",
    "    A = Z * (Z > 0)\n",
    "    \n",
    "    assert(A.shape == Z.shape)\n",
    "    return A"
   ]
  },
  {
   "cell_type": "code",
   "execution_count": 8,
   "metadata": {},
   "outputs": [],
   "source": [
    "def linear_activation_forward(A_prev, W, b, activation):\n",
    "    \"\"\"\n",
    "    Implement the forward propagation for the LINEAR -> ACTIVATION layer\n",
    "    \n",
    "    Arguments:\n",
    "    A_prev -- activations from previous layer (or input data): (num of examples, size of previous layer)\n",
    "    W -- weight matrix of current layer: (size of previous layer, size of current layer)\n",
    "    b -- bias matrix: (1, size of current layer)\n",
    "    activation -- \"relu\" or \"softmax\"\n",
    "    \"\"\"\n",
    "    \n",
    "    Z, linear_cache = linear_forward(A_prev, W, b)\n",
    "    \n",
    "    if activation == \"relu\":    \n",
    "        A = relu(Z)\n",
    "    elif activation == \"softmax\":\n",
    "        A = soft_max(Z)\n",
    "        \n",
    "    assert(A.shape == (A_prev.shape[0], W.shape[1]))\n",
    "    cache = linear_cache, Z\n",
    "    \n",
    "    return A, cache"
   ]
  },
  {
   "cell_type": "code",
   "execution_count": 9,
   "metadata": {},
   "outputs": [],
   "source": [
    "def L_model_forward(X, parameters):\n",
    "    \"\"\"\n",
    "    Implement forward propagation for ([LINEAR]->RELU)*(L-1) -> LINEAR -> softmax\n",
    "    \n",
    "    Argument:\n",
    "    X -- input data matrix (num of examples, num of features)\n",
    "    parameters -- output of initialize_parameters()\n",
    "    \n",
    "    Return:\n",
    "    AL -- last post-activation value\n",
    "    caches -- caches for all L layers, index from 0,...,L-1\n",
    "    \"\"\"\n",
    "    \n",
    "    caches = []\n",
    "    A = X\n",
    "    L = len(parameters) // 2      # number of layers\n",
    "    \n",
    "    for l in range(1, L):\n",
    "        A_prev = A\n",
    "        A, cache = linear_activation_forward(A_prev, parameters['W' + str(l)], parameters['b' + str(l)], \"relu\")\n",
    "        caches.append(cache)\n",
    "        \n",
    "    AL, cache = linear_activation_forward(A, parameters['W' + str(L)], parameters['b' + str(L)], \"softmax\")\n",
    "    caches.append(cache)\n",
    "    \n",
    "    assert(AL.shape[0] == X.shape[0])\n",
    "    assert(len(caches) == L)\n",
    "    \n",
    "    return AL, caches"
   ]
  },
  {
   "cell_type": "code",
   "execution_count": 10,
   "metadata": {},
   "outputs": [],
   "source": [
    "def compute_cross_entropy_loss(A, Y):\n",
    "    \"\"\"\n",
    "    Arguments:\n",
    "    A -- prediction matrix of shape   (num of examples, num of class)\n",
    "    Y -- one-hot matrix of true class (num of examples, num of class)\n",
    "    Return:\n",
    "    lost (scalar)\n",
    "    \"\"\"\n",
    "    m = A.shape[0]\n",
    "    return -(Y * np.log(A)).sum() / m"
   ]
  },
  {
   "cell_type": "markdown",
   "metadata": {},
   "source": [
    "## 2. Backward propagation\n",
    "\n",
    "### 2.1 - Linear backward\n",
    "\n",
    "For layer $l$, the linear part is: $Z^{[l]} = A^{[l-1]} W^{[l]} + b^{[l]}$ (followed by an activation).\n",
    "\n",
    "Suppose you have already calculated the derivative $dZ^{[l]} = \\frac{\\partial \\mathcal{L} }{\\partial Z^{[l]}}$. We want to get $(dW^{[l]}, db^{[l]}, dA^{[l-1]})$.\n",
    "\n",
    "For one training example and unit $j$, we have $z_j = \\sum\\limits_{i = 1}^{size of previous layer} a_i w_{i, j} + b_j$, then,\n",
    "\n",
    "$$dw_{i, j} = dz_j \\frac{\\partial z_j}{\\partial dw_{i, j}} = dz_j * a_i $$\n",
    "$$db_j = dz_j \\frac{\\partial z_j}{\\partial db_j} = dz_j $$\n",
    "$$da_i = dz_j w_{i, j} $$\n",
    "\n",
    "The three outputs $(dW^{[l]}, db^{[l]}, dA^{[l-1]})$ are computed using the input $dZ^{[l]}$:\n",
    "$$ dW^{[l]} =  \\frac{1}{m} A^{[l-1]T} dZ^{[l]}  $$\n",
    "$$ db^{[l]} = \\frac{1}{m} \\ dZ^{[l]}.sum(axis = 0) $$\n",
    "$$ dA^{[l-1]} = dZ^{[l]} W^{[l] T} $$"
   ]
  },
  {
   "cell_type": "code",
   "execution_count": 11,
   "metadata": {},
   "outputs": [],
   "source": [
    "def linear_backward(dZ, cache):\n",
    "    \"\"\"\n",
    "    Implement linear backward propagation for 1 layer\n",
    "    \n",
    "    Arguments:\n",
    "    dZ\n",
    "    cache -- (A_prev, W, b) from the forward propagation in the current layer\n",
    "    \n",
    "    Return:\n",
    "    dA_prev\n",
    "    dW\n",
    "    db\n",
    "    \"\"\"\n",
    "    linear_cache, Z = cache\n",
    "    A_prev, W, b = linear_cache\n",
    "    m = A_prev.shape[0]\n",
    "    \n",
    "    dW = 1 / m * np.dot(A_prev.T, dZ)\n",
    "    db = 1 / m * np.sum(dZ, axis = 0)\n",
    "    dA_prev = np.dot(dZ, W.T)\n",
    "    \n",
    "    return dA_prev, dW, db"
   ]
  },
  {
   "cell_type": "markdown",
   "metadata": {},
   "source": [
    "### 2.2 Activation backward\n",
    "Compute $dZ^{[l]} = dA^{[l]} * g'(Z^{[l]})$, where $g(.)$ is the activation function. Let's just do this for relu."
   ]
  },
  {
   "cell_type": "code",
   "execution_count": 12,
   "metadata": {},
   "outputs": [],
   "source": [
    "def relu_backward(dA, Z):\n",
    "    dZ = dA * (Z > 0)\n",
    "    return dZ"
   ]
  },
  {
   "cell_type": "markdown",
   "metadata": {},
   "source": [
    "## 2.3 Linear-activation backward"
   ]
  },
  {
   "cell_type": "code",
   "execution_count": 13,
   "metadata": {},
   "outputs": [],
   "source": [
    "def linear_activation_backward(dA, cache):\n",
    "    \"\"\"\n",
    "    Implement the backward propagation for the LINEAR->ACTIVATION layer.\n",
    "    \n",
    "    Arguments:\n",
    "    dA -- post-activation gradient for current layer l \n",
    "    cache -- tuple of values (linear_cache, Z) we store for computing backward propagation efficiently\n",
    "    \n",
    "    Returns:\n",
    "    dA_prev -- Gradient of the cost with respect to the activation (of the previous layer l-1), same shape as A_prev\n",
    "    dW -- Gradient of the cost with respect to W (current layer l), same shape as W\n",
    "    db -- Gradient of the cost with respect to b (current layer l), same shape as b\n",
    "    \"\"\"\n",
    "    linear_cache, Z = cache\n",
    "    \n",
    "    dZ = relu_backward(dA, Z)\n",
    "    dA_prev, dW, db = linear_backward(dZ, cache)\n",
    "    \n",
    "    return dA_prev, dW, db"
   ]
  },
  {
   "cell_type": "code",
   "execution_count": 14,
   "metadata": {},
   "outputs": [],
   "source": [
    "def L_model_backward(AL, Y, caches):\n",
    "    \"\"\"\n",
    "    Implement the backward propagation for the [LINEAR->RELU] * (L-1) -> LINEAR -> SOFTMAX group\n",
    "    \n",
    "    Arguments:\n",
    "    AL -- probability vector, output of the forward propagation (L_model_forward())\n",
    "    Y -- one-hot true \"label\" vector\n",
    "    caches -- list of caches containing:\n",
    "                every cache of linear_activation_forward() with \"relu\" (it's caches[l], for l in range(L-1) i.e l = 0...L-2)\n",
    "    \n",
    "    Returns:\n",
    "    grads -- A dictionary with the gradients\n",
    "             grads[\"dA\" + str(l)] = ... \n",
    "             grads[\"dW\" + str(l)] = ...\n",
    "             grads[\"db\" + str(l)] = ... \n",
    "    \"\"\"\n",
    "    grads = {}\n",
    "    L = len(caches) # the number of layers\n",
    "    m = AL.shape[0]\n",
    "    \n",
    "    # Lth layer (SOFTMAX -> LINEAR) gradients.  \n",
    "    dZ = AL - Y\n",
    "    grads[\"dA\" + str(L-1)], grads[\"dW\" + str(L)], grads[\"db\" + str(L)] = linear_backward(dZ, caches[L - 1])\n",
    "    \n",
    "    # Loop from l=L-1 to l=1\n",
    "    for l in reversed(range(1, L)):\n",
    "        grads[\"dA\" + str(l-1)], grads[\"dW\" + str(l)], grads[\"db\" + str(l)] = linear_activation_backward(grads[\"dA\" + str(l)], caches[l-1])\n",
    "\n",
    "    return grads"
   ]
  },
  {
   "cell_type": "code",
   "execution_count": 15,
   "metadata": {},
   "outputs": [],
   "source": [
    "def update_parameters(parameters, grads, learning_rate):\n",
    "    \"\"\"\n",
    "    Update parameters using gradient descent\n",
    "    \n",
    "    Arguments:\n",
    "    parameters -- python dictionary containing your parameters \n",
    "    grads -- python dictionary containing your gradients, output of L_model_backward\n",
    "    \n",
    "    Returns:\n",
    "    parameters -- python dictionary containing your updated parameters \n",
    "                  parameters[\"W\" + str(l)] = ... \n",
    "                  parameters[\"b\" + str(l)] = ...\n",
    "    \"\"\"\n",
    "    \n",
    "    L = len(parameters) // 2 # number of layers in the neural network\n",
    "    \n",
    "    for l in range(L):\n",
    "        parameters[\"W\" + str(l+1)] = parameters[\"W\" + str(l+1)] - learning_rate * grads[\"dW\" + str(l+1)]\n",
    "        parameters[\"b\" + str(l+1)] = parameters[\"b\" + str(l+1)] - learning_rate * grads[\"db\" + str(l+1)]\n",
    "\n",
    "    return parameters"
   ]
  },
  {
   "cell_type": "code",
   "execution_count": 16,
   "metadata": {},
   "outputs": [],
   "source": [
    "def L_layer_model(X, Y, layers_dims, learning_rate = 0.0075, num_iterations = 3000, print_cost=False):#lr was 0.009\n",
    "    \"\"\"\n",
    "    Implements a L-layer neural network: [LINEAR->RELU]*(L-1)->LINEAR->SOFTMAX.\n",
    "    \n",
    "    Arguments:\n",
    "    X -- data, numpy array of shape (number of examples, number of features)\n",
    "    Y -- one-hot true \"label\" vector\n",
    "    layers_dims -- list containing the input size and each layer size, of length (number of layers + 1).\n",
    "    learning_rate -- learning rate of the gradient descent update rule\n",
    "    num_iterations -- number of iterations of the optimization loop\n",
    "    print_cost -- if True, it prints the cost every 100 steps\n",
    "    \n",
    "    Returns:\n",
    "    parameters -- parameters learnt by the model. They can then be used to predict.\n",
    "    \"\"\"\n",
    "\n",
    "    np.random.seed(1)\n",
    "    costs = []                         # keep track of cost\n",
    "    \n",
    "    parameters = initialize_parameters(layers_dims)\n",
    "\n",
    "    \n",
    "    # Loop (gradient descent)\n",
    "    for i in range(0, num_iterations):\n",
    "\n",
    "        # Forward propagation: [LINEAR -> RELU]*(L-1) -> LINEAR -> SOFTMAX.\n",
    "        AL, caches = L_model_forward(X, parameters)\n",
    "        \n",
    "        # Compute cost.\n",
    "        cost = compute_cross_entropy_loss(AL, Y)\n",
    "    \n",
    "        # Backward propagation.\n",
    "        grads = L_model_backward(AL, Y, caches)\n",
    " \n",
    "        # Update parameters.\n",
    "        parameters = update_parameters(parameters, grads, learning_rate)\n",
    "                \n",
    "        # Print the cost every 100 training example\n",
    "        if print_cost and i % 100 == 0:\n",
    "            print (\"Cost after iteration %i: %f\" %(i, cost))\n",
    "        if print_cost and i % 100 == 0:\n",
    "            costs.append(cost)\n",
    "            \n",
    "    # plot the cost\n",
    "    plt.plot(np.squeeze(costs))\n",
    "    plt.ylabel('cost')\n",
    "    plt.xlabel('iterations (per tens)')\n",
    "    plt.title(\"Learning rate =\" + str(learning_rate))\n",
    "    plt.show()\n",
    "    \n",
    "    return parameters"
   ]
  },
  {
   "cell_type": "code",
   "execution_count": 17,
   "metadata": {},
   "outputs": [
    {
     "name": "stdout",
     "output_type": "stream",
     "text": [
      "Cost after iteration 0: 2.301802\n",
      "Cost after iteration 100: 1.105076\n",
      "Cost after iteration 200: 0.532143\n",
      "Cost after iteration 300: 0.418412\n",
      "Cost after iteration 400: 0.370337\n",
      "Cost after iteration 500: 0.342632\n",
      "Cost after iteration 600: 0.322993\n",
      "Cost after iteration 700: 0.307524\n",
      "Cost after iteration 800: 0.294639\n",
      "Cost after iteration 900: 0.283207\n",
      "Cost after iteration 1000: 0.272946\n",
      "Cost after iteration 1100: 0.263549\n",
      "Cost after iteration 1200: 0.254788\n",
      "Cost after iteration 1300: 0.246499\n",
      "Cost after iteration 1400: 0.238664\n",
      "Cost after iteration 1500: 0.231262\n",
      "Cost after iteration 1600: 0.224205\n",
      "Cost after iteration 1700: 0.217490\n",
      "Cost after iteration 1800: 0.211091\n",
      "Cost after iteration 1900: 0.205021\n",
      "Cost after iteration 2000: 0.199212\n",
      "Cost after iteration 2100: 0.193722\n",
      "Cost after iteration 2200: 0.188499\n",
      "Cost after iteration 2300: 0.183508\n",
      "Cost after iteration 2400: 0.178728\n",
      "Cost after iteration 2500: 0.174200\n",
      "Cost after iteration 2600: 0.169893\n",
      "Cost after iteration 2700: 0.165781\n",
      "Cost after iteration 2800: 0.161842\n",
      "Cost after iteration 2900: 0.158082\n"
     ]
    },
    {
     "data": {
      "image/png": "[encoded data removed]",
      "text/plain": [
       "<Figure size 432x288 with 1 Axes>"
      ]
     },
     "metadata": {},
     "output_type": "display_data"
    }
   ],
   "source": [
    "layers_dims = [784, 50, 10] #  4-layer model\n",
    "parameters = L_layer_model(X_train, Y_train_one_hot, layers_dims, learning_rate = 0.1, num_iterations = 3000, print_cost = True)"
   ]
  },
  {
   "cell_type": "code",
   "execution_count": 18,
   "metadata": {},
   "outputs": [],
   "source": [
    "def predict(X, parameters):\n",
    "    \"\"\"\n",
    "    Arguments:\n",
    "    X -- input data (m, num_feature)\n",
    "    \n",
    "    Return:\n",
    "    prediction -- softmax vector (1, num_feature)\n",
    "    \"\"\"\n",
    "    AL, _ = L_model_forward(X, parameters)\n",
    "    \n",
    "    prediction = np.argmax(AL, axis = 1)\n",
    "    \n",
    "    return prediction"
   ]
  },
  {
   "cell_type": "code",
   "execution_count": 19,
   "metadata": {},
   "outputs": [
    {
     "name": "stdout",
     "output_type": "stream",
     "text": [
      "Training accuracy: 95.663492%\n"
     ]
    }
   ],
   "source": [
    "# Training accuracy\n",
    "Y_train_hat = predict(X_train, parameters)\n",
    "\n",
    "m = X_train.shape[0]\n",
    "num_correct = m - np.count_nonzero((np.squeeze(Y_train) - Y_train_hat))\n",
    "\n",
    "print(\"Training accuracy: %f\" % float(num_correct / m * 100.0) + \"%\" )"
   ]
  },
  {
   "cell_type": "code",
   "execution_count": 20,
   "metadata": {},
   "outputs": [
    {
     "name": "stdout",
     "output_type": "stream",
     "text": [
      "Testing accuracy: 94.771429%\n"
     ]
    }
   ],
   "source": [
    "# Testing accuracy\n",
    "Y_test_hat = predict(X_test, parameters)\n",
    "\n",
    "m = X_test.shape[0]\n",
    "num_correct = m - np.count_nonzero((np.squeeze(Y_test) - Y_test_hat))\n",
    "\n",
    "print(\"Testing accuracy: %f\" % float(num_correct / m * 100.0) + \"%\" )"
   ]
  }
 ],
 "metadata": {
  "kernelspec": {
   "display_name": "Python 3",
   "language": "python",
   "name": "python3"
  },
  "language_info": {
   "codemirror_mode": {
    "name": "ipython",
    "version": 3
   },
   "file_extension": ".py",
   "mimetype": "text/x-python",
   "name": "python",
   "nbconvert_exporter": "python",
   "pygments_lexer": "ipython3",
   "version": "3.6.5"
  }
 },
 "nbformat": 4,
 "nbformat_minor": 2
}
