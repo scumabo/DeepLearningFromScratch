{
 "cells": [
  {
   "cell_type": "code",
   "execution_count": 11,
   "metadata": {},
   "outputs": [],
   "source": [
    "import numpy as np\n",
    "import pandas as pd\n",
    "import matplotlib.pyplot as plt\n",
    "from sklearn.model_selection import train_test_split\n",
    "%matplotlib inline"
   ]
  },
  {
   "cell_type": "code",
   "execution_count": 39,
   "metadata": {},
   "outputs": [
    {
     "name": "stdout",
     "output_type": "stream",
     "text": [
      "(784, 31500)\n",
      "(1, 31500)\n",
      "(784, 10500)\n",
      "(1, 10500)\n"
     ]
    }
   ],
   "source": [
    "data = pd.read_csv(\"../data/MNIST_train.csv\")\n",
    "\n",
    "X_data = data_train[:, 1:]\n",
    "Y_data = data_train[:, [0]]\n",
    "\n",
    "\n",
    "X_train, X_test, labels_train, labels_test = train_test_split(X_data, Y_data, random_state = 0)\n",
    "\n",
    "X_train = X_train.T\n",
    "X_test = X_test.T\n",
    "labels_train = labels_train.T\n",
    "labels_test = labels_test.T\n",
    "\n",
    "print(X_train.shape)\n",
    "print(Y_train.shape)\n",
    "print(X_test.shape)\n",
    "print(Y_test.shape)"
   ]
  },
  {
   "cell_type": "code",
   "execution_count": 40,
   "metadata": {},
   "outputs": [
    {
     "data": {
      "text/plain": [
       "Text(0.5,1,'label is [5]')"
      ]
     },
     "execution_count": 40,
     "metadata": {},
     "output_type": "execute_result"
    },
    {
     "data": {
      "image/png": "[encoded data removed]",
      "text/plain": [
       "<Figure size 432x288 with 1 Axes>"
      ]
     },
     "metadata": {},
     "output_type": "display_data"
    }
   ],
   "source": [
    "index = 20\n",
    "sampleImg = np.reshape(X_train[:, index], [28, 28])\n",
    "\n",
    "ax = plt.imshow(sampleImg)\n",
    "plt.title(\"label is \" + str(Y_train[:, index]))"
   ]
  },
  {
   "cell_type": "markdown",
   "metadata": {},
   "source": [
    "Simple standardization for images"
   ]
  },
  {
   "cell_type": "code",
   "execution_count": 36,
   "metadata": {},
   "outputs": [],
   "source": [
    "X_train = X_train/255\n",
    "X_test = X_test/255"
   ]
  },
  {
   "cell_type": "code",
   "execution_count": 45,
   "metadata": {},
   "outputs": [],
   "source": [
    "def one_hot_matrix(labels, num_class):\n",
    "    \"\"\"\n",
    "    Convert an array of labels to Y (a one_hot_matrix)\n",
    "    \n",
    "    Arguments:\n",
    "    labels -- array (1, number of examples)\n",
    "    num_class -- num of classes\n",
    "    \n",
    "    Return:\n",
    "    Y -- (num_class, labels)\n",
    "    \"\"\"\n",
    "    Y = np.zeros((num_class, labels.shape[1]))\n",
    "    Y[labels, np.arange(labels.shape[1])] = 1\n",
    "    \n",
    "    return Y"
   ]
  },
  {
   "cell_type": "code",
   "execution_count": 52,
   "metadata": {},
   "outputs": [
    {
     "name": "stdout",
     "output_type": "stream",
     "text": [
      "label 8 converted to[0. 0. 0. 0. 0. 0. 0. 0. 1. 0.]\n"
     ]
    }
   ],
   "source": [
    "Y_train = one_hot_matrix(labels_train, 10)\n",
    "Y_test = one_hot_matrix(labels_test, 10)\n",
    "\n",
    "print(\"label \" + str(labels_train[0, 1]) + \" converted to\" + str(Y[:, 1]))"
   ]
  }
 ],
 "metadata": {
  "kernelspec": {
   "display_name": "Python 3",
   "language": "python",
   "name": "python3"
  },
  "language_info": {
   "codemirror_mode": {
    "name": "ipython",
    "version": 3
   },
   "file_extension": ".py",
   "mimetype": "text/x-python",
   "name": "python",
   "nbconvert_exporter": "python",
   "pygments_lexer": "ipython3",
   "version": "3.6.5"
  }
 },
 "nbformat": 4,
 "nbformat_minor": 2
}
