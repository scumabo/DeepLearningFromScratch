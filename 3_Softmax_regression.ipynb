{
  "nbformat": 4,
  "nbformat_minor": 0,
  "metadata": {
    "colab": {
      "name": "3. Softmax regression.ipynb",
      "version": "0.3.2",
      "provenance": [],
      "collapsed_sections": [],
      "include_colab_link": true
    },
    "kernelspec": {
      "name": "python3",
      "display_name": "Python 3"
    },
    "accelerator": "GPU"
  },
  "cells": [
    {
      "cell_type": "markdown",
      "metadata": {
        "id": "view-in-github",
        "colab_type": "text"
      },
      "source": [
        "[View in Colaboratory](https://colab.research.google.com/github/scumabo/DeepLearningFromScratch/blob/master/3_Softmax_regression.ipynb)"
      ]
    },
    {
      "metadata": {
        "id": "h3sw8YQpwyUe",
        "colab_type": "code",
        "colab": {
          "resources": {
            "http://localhost:8080/nbextensions/google.colab/files.js": {
              "data": "Ly8gQ29weXJpZ2h0IDIwMTcgR29vZ2xlIExMQwovLwovLyBMaWNlbnNlZCB1bmRlciB0aGUgQXBhY2hlIExpY2Vuc2UsIFZlcnNpb24gMi4wICh0aGUgIkxpY2Vuc2UiKTsKLy8geW91IG1heSBub3QgdXNlIHRoaXMgZmlsZSBleGNlcHQgaW4gY29tcGxpYW5jZSB3aXRoIHRoZSBMaWNlbnNlLgovLyBZb3UgbWF5IG9idGFpbiBhIGNvcHkgb2YgdGhlIExpY2Vuc2UgYXQKLy8KLy8gICAgICBodHRwOi8vd3d3LmFwYWNoZS5vcmcvbGljZW5zZXMvTElDRU5TRS0yLjAKLy8KLy8gVW5sZXNzIHJlcXVpcmVkIGJ5IGFwcGxpY2FibGUgbGF3IG9yIGFncmVlZCB0byBpbiB3cml0aW5nLCBzb2Z0d2FyZQovLyBkaXN0cmlidXRlZCB1bmRlciB0aGUgTGljZW5zZSBpcyBkaXN0cmlidXRlZCBvbiBhbiAiQVMgSVMiIEJBU0lTLAovLyBXSVRIT1VUIFdBUlJBTlRJRVMgT1IgQ09ORElUSU9OUyBPRiBBTlkgS0lORCwgZWl0aGVyIGV4cHJlc3Mgb3IgaW1wbGllZC4KLy8gU2VlIHRoZSBMaWNlbnNlIGZvciB0aGUgc3BlY2lmaWMgbGFuZ3VhZ2UgZ292ZXJuaW5nIHBlcm1pc3Npb25zIGFuZAovLyBsaW1pdGF0aW9ucyB1bmRlciB0aGUgTGljZW5zZS4KCi8qKgogKiBAZmlsZW92ZXJ2aWV3IEhlbHBlcnMgZm9yIGdvb2dsZS5jb2xhYiBQeXRob24gbW9kdWxlLgogKi8KKGZ1bmN0aW9uKHNjb3BlKSB7CmZ1bmN0aW9uIHNwYW4odGV4dCwgc3R5bGVBdHRyaWJ1dGVzID0ge30pIHsKICBjb25zdCBlbGVtZW50ID0gZG9jdW1lbnQuY3JlYXRlRWxlbWVudCgnc3BhbicpOwogIGVsZW1lbnQudGV4dENvbnRlbnQgPSB0ZXh0OwogIGZvciAoY29uc3Qga2V5IG9mIE9iamVjdC5rZXlzKHN0eWxlQXR0cmlidXRlcykpIHsKICAgIGVsZW1lbnQuc3R5bGVba2V5XSA9IHN0eWxlQXR0cmlidXRlc1trZXldOwogIH0KICByZXR1cm4gZWxlbWVudDsKfQoKLy8gTWF4IG51bWJlciBvZiBieXRlcyB3aGljaCB3aWxsIGJlIHVwbG9hZGVkIGF0IGEgdGltZS4KY29uc3QgTUFYX1BBWUxPQURfU0laRSA9IDEwMCAqIDEwMjQ7Ci8vIE1heCBhbW91bnQgb2YgdGltZSB0byBibG9jayB3YWl0aW5nIGZvciB0aGUgdXNlci4KY29uc3QgRklMRV9DSEFOR0VfVElNRU9VVF9NUyA9IDMwICogMTAwMDsKCmZ1bmN0aW9uIF91cGxvYWRGaWxlcyhpbnB1dElkLCBvdXRwdXRJZCkgewogIGNvbnN0IHN0ZXBzID0gdXBsb2FkRmlsZXNTdGVwKGlucHV0SWQsIG91dHB1dElkKTsKICBjb25zdCBvdXRwdXRFbGVtZW50ID0gZG9jdW1lbnQuZ2V0RWxlbWVudEJ5SWQob3V0cHV0SWQpOwogIC8vIENhY2hlIHN0ZXBzIG9uIHRoZSBvdXRwdXRFbGVtZW50IHRvIG1ha2UgaXQgYXZhaWxhYmxlIGZvciB0aGUgbmV4dCBjYWxsCiAgLy8gdG8gdXBsb2FkRmlsZXNDb250aW51ZSBmcm9tIFB5dGhvbi4KICBvdXRwdXRFbGVtZW50LnN0ZXBzID0gc3RlcHM7CgogIHJldHVybiBfdXBsb2FkRmlsZXNDb250aW51ZShvdXRwdXRJZCk7Cn0KCi8vIFRoaXMgaXMgcm91Z2hseSBhbiBhc3luYyBnZW5lcmF0b3IgKG5vdCBzdXBwb3J0ZWQgaW4gdGhlIGJyb3dzZXIgeWV0KSwKLy8gd2hlcmUgdGhlcmUgYXJlIG11bHRpcGxlIGFzeW5jaHJvbm91cyBzdGVwcyBhbmQgdGhlIFB5dGhvbiBzaWRlIGlzIGdvaW5nCi8vIHRvIHBvbGwgZm9yIGNvbXBsZXRpb24gb2YgZWFjaCBzdGVwLgovLyBUaGlzIHVzZXMgYSBQcm9taXNlIHRvIGJsb2NrIHRoZSBweXRob24gc2lkZSBvbiBjb21wbGV0aW9uIG9mIGVhY2ggc3RlcCwKLy8gdGhlbiBwYXNzZXMgdGhlIHJlc3VsdCBvZiB0aGUgcHJldmlvdXMgc3RlcCBhcyB0aGUgaW5wdXQgdG8gdGhlIG5leHQgc3RlcC4KZnVuY3Rpb24gX3VwbG9hZEZpbGVzQ29udGludWUob3V0cHV0SWQpIHsKICBjb25zdCBvdXRwdXRFbGVtZW50ID0gZG9jdW1lbnQuZ2V0RWxlbWVudEJ5SWQob3V0cHV0SWQpOwogIGNvbnN0IHN0ZXBzID0gb3V0cHV0RWxlbWVudC5zdGVwczsKCiAgY29uc3QgbmV4dCA9IHN0ZXBzLm5leHQob3V0cHV0RWxlbWVudC5sYXN0UHJvbWlzZVZhbHVlKTsKICByZXR1cm4gUHJvbWlzZS5yZXNvbHZlKG5leHQudmFsdWUucHJvbWlzZSkudGhlbigodmFsdWUpID0+IHsKICAgIC8vIENhY2hlIHRoZSBsYXN0IHByb21pc2UgdmFsdWUgdG8gbWFrZSBpdCBhdmFpbGFibGUgdG8gdGhlIG5leHQKICAgIC8vIHN0ZXAgb2YgdGhlIGdlbmVyYXRvci4KICAgIG91dHB1dEVsZW1lbnQubGFzdFByb21pc2VWYWx1ZSA9IHZhbHVlOwogICAgcmV0dXJuIG5leHQudmFsdWUucmVzcG9uc2U7CiAgfSk7Cn0KCi8qKgogKiBHZW5lcmF0b3IgZnVuY3Rpb24gd2hpY2ggaXMgY2FsbGVkIGJldHdlZW4gZWFjaCBhc3luYyBzdGVwIG9mIHRoZSB1cGxvYWQKICogcHJvY2Vzcy4KICogQHBhcmFtIHtzdHJpbmd9IGlucHV0SWQgRWxlbWVudCBJRCBvZiB0aGUgaW5wdXQgZmlsZSBwaWNrZXIgZWxlbWVudC4KICogQHBhcmFtIHtzdHJpbmd9IG91dHB1dElkIEVsZW1lbnQgSUQgb2YgdGhlIG91dHB1dCBkaXNwbGF5LgogKiBAcmV0dXJuIHshSXRlcmFibGU8IU9iamVjdD59IEl0ZXJhYmxlIG9mIG5leHQgc3RlcHMuCiAqLwpmdW5jdGlvbiogdXBsb2FkRmlsZXNTdGVwKGlucHV0SWQsIG91dHB1dElkKSB7CiAgY29uc3QgaW5wdXRFbGVtZW50ID0gZG9jdW1lbnQuZ2V0RWxlbWVudEJ5SWQoaW5wdXRJZCk7CiAgaW5wdXRFbGVtZW50LmRpc2FibGVkID0gZmFsc2U7CgogIGNvbnN0IG91dHB1dEVsZW1lbnQgPSBkb2N1bWVudC5nZXRFbGVtZW50QnlJZChvdXRwdXRJZCk7CiAgb3V0cHV0RWxlbWVudC5pbm5lckhUTUwgPSAnJzsKCiAgY29uc3QgcGlja2VkUHJvbWlzZSA9IG5ldyBQcm9taXNlKChyZXNvbHZlKSA9PiB7CiAgICBpbnB1dEVsZW1lbnQuYWRkRXZlbnRMaXN0ZW5lcignY2hhbmdlJywgKGUpID0+IHsKICAgICAgcmVzb2x2ZShlLnRhcmdldC5maWxlcyk7CiAgICB9KTsKICB9KTsKCiAgY29uc3QgY2FuY2VsID0gZG9jdW1lbnQuY3JlYXRlRWxlbWVudCgnYnV0dG9uJyk7CiAgaW5wdXRFbGVtZW50LnBhcmVudEVsZW1lbnQuYXBwZW5kQ2hpbGQoY2FuY2VsKTsKICBjYW5jZWwudGV4dENvbnRlbnQgPSAnQ2FuY2VsIHVwbG9hZCc7CiAgY29uc3QgY2FuY2VsUHJvbWlzZSA9IG5ldyBQcm9taXNlKChyZXNvbHZlKSA9PiB7CiAgICBjYW5jZWwub25jbGljayA9ICgpID0+IHsKICAgICAgcmVzb2x2ZShudWxsKTsKICAgIH07CiAgfSk7CgogIC8vIENhbmNlbCB1cGxvYWQgaWYgdXNlciBoYXNuJ3QgcGlja2VkIGFueXRoaW5nIGluIHRpbWVvdXQuCiAgY29uc3QgdGltZW91dFByb21pc2UgPSBuZXcgUHJvbWlzZSgocmVzb2x2ZSkgPT4gewogICAgc2V0VGltZW91dCgoKSA9PiB7CiAgICAgIHJlc29sdmUobnVsbCk7CiAgICB9LCBGSUxFX0NIQU5HRV9USU1FT1VUX01TKTsKICB9KTsKCiAgLy8gV2FpdCBmb3IgdGhlIHVzZXIgdG8gcGljayB0aGUgZmlsZXMuCiAgY29uc3QgZmlsZXMgPSB5aWVsZCB7CiAgICBwcm9taXNlOiBQcm9taXNlLnJhY2UoW3BpY2tlZFByb21pc2UsIHRpbWVvdXRQcm9taXNlLCBjYW5jZWxQcm9taXNlXSksCiAgICByZXNwb25zZTogewogICAgICBhY3Rpb246ICdzdGFydGluZycsCiAgICB9CiAgfTsKCiAgaWYgKCFmaWxlcykgewogICAgcmV0dXJuIHsKICAgICAgcmVzcG9uc2U6IHsKICAgICAgICBhY3Rpb246ICdjb21wbGV0ZScsCiAgICAgIH0KICAgIH07CiAgfQoKICBjYW5jZWwucmVtb3ZlKCk7CgogIC8vIERpc2FibGUgdGhlIGlucHV0IGVsZW1lbnQgc2luY2UgZnVydGhlciBwaWNrcyBhcmUgbm90IGFsbG93ZWQuCiAgaW5wdXRFbGVtZW50LmRpc2FibGVkID0gdHJ1ZTsKCiAgZm9yIChjb25zdCBmaWxlIG9mIGZpbGVzKSB7CiAgICBjb25zdCBsaSA9IGRvY3VtZW50LmNyZWF0ZUVsZW1lbnQoJ2xpJyk7CiAgICBsaS5hcHBlbmQoc3BhbihmaWxlLm5hbWUsIHtmb250V2VpZ2h0OiAnYm9sZCd9KSk7CiAgICBsaS5hcHBlbmQoc3BhbigKICAgICAgICBgKCR7ZmlsZS50eXBlIHx8ICduL2EnfSkgLSAke2ZpbGUuc2l6ZX0gYnl0ZXMsIGAgKwogICAgICAgIGBsYXN0IG1vZGlmaWVkOiAkewogICAgICAgICAgICBmaWxlLmxhc3RNb2RpZmllZERhdGUgPyBmaWxlLmxhc3RNb2RpZmllZERhdGUudG9Mb2NhbGVEYXRlU3RyaW5nKCkgOgogICAgICAgICAgICAgICAgICAgICAgICAgICAgICAgICAgICAnbi9hJ30gLSBgKSk7CiAgICBjb25zdCBwZXJjZW50ID0gc3BhbignMCUgZG9uZScpOwogICAgbGkuYXBwZW5kQ2hpbGQocGVyY2VudCk7CgogICAgb3V0cHV0RWxlbWVudC5hcHBlbmRDaGlsZChsaSk7CgogICAgY29uc3QgZmlsZURhdGFQcm9taXNlID0gbmV3IFByb21pc2UoKHJlc29sdmUpID0+IHsKICAgICAgY29uc3QgcmVhZGVyID0gbmV3IEZpbGVSZWFkZXIoKTsKICAgICAgcmVhZGVyLm9ubG9hZCA9IChlKSA9PiB7CiAgICAgICAgcmVzb2x2ZShlLnRhcmdldC5yZXN1bHQpOwogICAgICB9OwogICAgICByZWFkZXIucmVhZEFzQXJyYXlCdWZmZXIoZmlsZSk7CiAgICB9KTsKICAgIC8vIFdhaXQgZm9yIHRoZSBkYXRhIHRvIGJlIHJlYWR5LgogICAgbGV0IGZpbGVEYXRhID0geWllbGQgewogICAgICBwcm9taXNlOiBmaWxlRGF0YVByb21pc2UsCiAgICAgIHJlc3BvbnNlOiB7CiAgICAgICAgYWN0aW9uOiAnY29udGludWUnLAogICAgICB9CiAgICB9OwoKICAgIC8vIFVzZSBhIGNodW5rZWQgc2VuZGluZyB0byBhdm9pZCBtZXNzYWdlIHNpemUgbGltaXRzLiBTZWUgYi82MjExNTY2MC4KICAgIGxldCBwb3NpdGlvbiA9IDA7CiAgICB3aGlsZSAocG9zaXRpb24gPCBmaWxlRGF0YS5ieXRlTGVuZ3RoKSB7CiAgICAgIGNvbnN0IGxlbmd0aCA9IE1hdGgubWluKGZpbGVEYXRhLmJ5dGVMZW5ndGggLSBwb3NpdGlvbiwgTUFYX1BBWUxPQURfU0laRSk7CiAgICAgIGNvbnN0IGNodW5rID0gbmV3IFVpbnQ4QXJyYXkoZmlsZURhdGEsIHBvc2l0aW9uLCBsZW5ndGgpOwogICAgICBwb3NpdGlvbiArPSBsZW5ndGg7CgogICAgICBjb25zdCBiYXNlNjQgPSBidG9hKFN0cmluZy5mcm9tQ2hhckNvZGUuYXBwbHkobnVsbCwgY2h1bmspKTsKICAgICAgeWllbGQgewogICAgICAgIHJlc3BvbnNlOiB7CiAgICAgICAgICBhY3Rpb246ICdhcHBlbmQnLAogICAgICAgICAgZmlsZTogZmlsZS5uYW1lLAogICAgICAgICAgZGF0YTogYmFzZTY0LAogICAgICAgIH0sCiAgICAgIH07CiAgICAgIHBlcmNlbnQudGV4dENvbnRlbnQgPQogICAgICAgICAgYCR7TWF0aC5yb3VuZCgocG9zaXRpb24gLyBmaWxlRGF0YS5ieXRlTGVuZ3RoKSAqIDEwMCl9JSBkb25lYDsKICAgIH0KICB9CgogIC8vIEFsbCBkb25lLgogIHlpZWxkIHsKICAgIHJlc3BvbnNlOiB7CiAgICAgIGFjdGlvbjogJ2NvbXBsZXRlJywKICAgIH0KICB9Owp9CgpzY29wZS5nb29nbGUgPSBzY29wZS5nb29nbGUgfHwge307CnNjb3BlLmdvb2dsZS5jb2xhYiA9IHNjb3BlLmdvb2dsZS5jb2xhYiB8fCB7fTsKc2NvcGUuZ29vZ2xlLmNvbGFiLl9maWxlcyA9IHsKICBfdXBsb2FkRmlsZXMsCiAgX3VwbG9hZEZpbGVzQ29udGludWUsCn07Cn0pKHNlbGYpOwo=",
              "ok": true,
              "headers": [
                [
                  "content-type",
                  "application/javascript"
                ]
              ],
              "status": 200,
              "status_text": ""
            }
          },
          "base_uri": "https://localhost:8080/",
          "height": 73
        },
        "outputId": "82e90c3e-8615-4c9a-88eb-a86ed567cee8"
      },
      "cell_type": "code",
      "source": [
        "import numpy as np\n",
        "import pandas as pd\n",
        "import matplotlib.pyplot as plt\n",
        "from sklearn.model_selection import train_test_split\n",
        "%matplotlib inline\n"
      ],
      "execution_count": 1,
      "outputs": [
        {
          "output_type": "display_data",
          "data": {
            "text/html": [
              "\n",
              "     <input type=\"file\" id=\"files-fdeb83bb-b342-4ab8-9c90-277512d7d7da\" name=\"files[]\" multiple disabled />\n",
              "     <output id=\"result-fdeb83bb-b342-4ab8-9c90-277512d7d7da\">\n",
              "      Upload widget is only available when the cell has been executed in the\n",
              "      current browser session. Please rerun this cell to enable.\n",
              "      </output>\n",
              "      <script src=\"/nbextensions/google.colab/files.js\"></script> "
            ],
            "text/plain": [
              "<IPython.core.display.HTML object>"
            ]
          },
          "metadata": {
            "tags": []
          }
        },
        {
          "output_type": "stream",
          "text": [
            "Saving MNIST_train.csv to MNIST_train.csv\n"
          ],
          "name": "stdout"
        }
      ]
    },
    {
      "metadata": {
        "id": "Cw5mAwRQz3ZW",
        "colab_type": "code",
        "colab": {
          "base_uri": "https://localhost:8080/",
          "height": 67
        },
        "outputId": "5ab7c3db-c76d-41ef-d65d-608f6af2a94f"
      },
      "cell_type": "code",
      "source": [
        "data = pd.read_csv(\"MNIST_train.csv\").values\n",
        "\n",
        "X_data = data[:, 1:]\n",
        "Y_data = data[:, [0]]\n",
        "\n",
        "# Simple normalization\n",
        "X_data = X_data / 255\n",
        "\n",
        "X_train, X_test, Y_train, Y_test = train_test_split(X_data, Y_data, random_state = 0)\n",
        "\n",
        "print(\"Number of training examples = \" + str(X_train.shape[0]) )\n",
        "print(\"Number of testing examples = \" + str(X_test.shape[0]) )\n",
        "print(\"Number of features = \" +  str(X_train.shape[1]) )"
      ],
      "execution_count": 2,
      "outputs": [
        {
          "output_type": "stream",
          "text": [
            "Number of training examples = 31500\n",
            "Number of testing examples = 10500\n",
            "Number of features = 784\n"
          ],
          "name": "stdout"
        }
      ]
    },
    {
      "metadata": {
        "id": "lzl5z5ZVz83y",
        "colab_type": "code",
        "colab": {
          "base_uri": "https://localhost:8080/",
          "height": 297
        },
        "outputId": "d7f196ee-911a-4ade-b763-d0c1b50ebf93"
      },
      "cell_type": "code",
      "source": [
        "index = 10\n",
        "sampleImg = np.reshape(X_train[index, :], [28, 28])\n",
        "\n",
        "ax = plt.imshow(sampleImg)\n",
        "plt.title(\"label is \" + str(Y_train[index, :]))"
      ],
      "execution_count": 3,
      "outputs": [
        {
          "output_type": "execute_result",
          "data": {
            "text/plain": [
              "Text(0.5,1,'label is [5]')"
            ]
          },
          "metadata": {
            "tags": []
          },
          "execution_count": 3
        },
        {
          "output_type": "display_data",
          "data": {
            "image/png": "[encoded data removed]",
            "text/plain": [
              "<matplotlib.figure.Figure at 0x7f15ad646fd0>"
            ]
          },
          "metadata": {
            "tags": []
          }
        }
      ]
    },
    {
      "metadata": {
        "id": "mPgrfU0I1J_Y",
        "colab_type": "text"
      },
      "cell_type": "markdown",
      "source": [
        "Convert labels to its one-hot encoding for defining the loss function of softmax classification"
      ]
    },
    {
      "metadata": {
        "id": "6ohVzSiH0_6q",
        "colab_type": "code",
        "colab": {}
      },
      "cell_type": "code",
      "source": [
        "def one_hot_matrix(Y, num_class):\n",
        "    \"\"\"\n",
        "    Convert an array of Y to its one_hot_matrix\n",
        "    \n",
        "    Arguments:\n",
        "    Y -- array (number of examples, 1)\n",
        "    num_class -- num of classes\n",
        "    \n",
        "    Return:\n",
        "    Y_one_hot -- (number of examples, num_class)\n",
        "    \"\"\"\n",
        "    Y_one_hot = np.zeros((Y.shape[0], num_class))\n",
        "    Y_one_hot[np.arange(Y.shape[0]), Y.T] = 1\n",
        "    \n",
        "    return Y_one_hot"
      ],
      "execution_count": 0,
      "outputs": []
    },
    {
      "metadata": {
        "id": "x8GS9x8-1PUU",
        "colab_type": "code",
        "colab": {
          "base_uri": "https://localhost:8080/",
          "height": 34
        },
        "outputId": "684d68e6-3f1e-4ac3-e97f-58e3b97a1b1c"
      },
      "cell_type": "code",
      "source": [
        "Y_train_one_hot = one_hot_matrix(Y_train, 10)\n",
        "Y_test_one_hot = one_hot_matrix(Y_test, 10)\n",
        "\n",
        "index = 2\n",
        "print(\"Letter \" + str(Y_train[index, 0]) + \" converted to \" + str(Y_train_one_hot[index, :]))"
      ],
      "execution_count": 5,
      "outputs": [
        {
          "output_type": "stream",
          "text": [
            "Letter 9 converted to [0. 0. 0. 0. 0. 0. 0. 0. 0. 1.]\n"
          ],
          "name": "stdout"
        }
      ]
    },
    {
      "metadata": {
        "id": "owis259q1Zem",
        "colab_type": "text"
      },
      "cell_type": "markdown",
      "source": [
        "## Math for one training example\n",
        "\n",
        "###  1. Forward propagation\n",
        "\n",
        "We treate the softmax classification problem as a 1-layer neural network with 10 nerons (add image). Each neural is just a linear combination of all input features, and the softmax activation function takes effect for all neurons.\n",
        "\n",
        "For one example $\\{x_1, ..., x_{n} \\}$ (use column vectors in the following for legibility):\n",
        "\n",
        "#### Linear forward\n",
        "\n",
        "$$\n",
        "Z\n",
        "=\n",
        "\\begin{bmatrix} \n",
        "z_1 \\\\\n",
        "\\vdots \\\\\n",
        "z_j \\\\\n",
        "\\vdots \\\\\n",
        "z_{10} \\\\\n",
        "\\end{bmatrix}\n",
        "=\n",
        "\\begin{bmatrix} \n",
        "\\sum\\limits_{i=1}^{n} w_{i, 1} x_{i} \\\\\n",
        "\\vdots \\\\\n",
        "\\sum\\limits_{i=1}^{n} w_{i, j} x_{i} \\\\\n",
        "\\vdots \\\\\n",
        "\\sum\\limits_{i=1}^{n} w_{i, 10} x_{i} \\\\\n",
        "\\end{bmatrix}\n",
        "+\n",
        "\\begin{bmatrix} \n",
        "b_1 \\\\\n",
        "\\vdots \\\\\n",
        "b_j \\\\\n",
        "\\vdots \\\\\n",
        "b_{10} \\\\\n",
        "\\end{bmatrix}\n",
        "$$\n",
        "\n",
        "#### Softmax\n",
        "\n",
        "$$\n",
        "\\begin{bmatrix} \n",
        "z_1 \\\\\n",
        "\\vdots \\\\\n",
        "z_{10} \\\\\n",
        "\\end{bmatrix}\n",
        "\\Rightarrow \n",
        "\\begin{bmatrix} \n",
        "\\frac{e^{z_1} }{\\sum\\limits_{k = 1}^{10} e^{z_k} } \\\\\n",
        "\\vdots \\\\\n",
        "\\frac{e^{z_10} }{\\sum\\limits_{k = 1}^{10} e^{z_k} } \\\\\n",
        "\\end{bmatrix}=\n",
        "\\begin{bmatrix} \n",
        "a_1 \\\\\n",
        "\\vdots \\\\\n",
        "a_{10} \\\\\n",
        "\\end{bmatrix}=\n",
        "a\n",
        "$$\n",
        "\n",
        "\n",
        "### 2. Cross entropy loss\n",
        "\n",
        "$$ \\mathcal{L}(a, y) = -\\sum\\limits_{j = 1} ^{10} y_{j} \\log a_{j} $$\n",
        "\n",
        "### 3. Backward propagation\n",
        "\n",
        "#### 1. Derivative of linear function\n",
        "\n",
        "$$ \\frac{\\partial z_j }{\\partial w_{i, j}} =  x_i $$\n",
        "\n",
        "$$ \\frac{\\partial z_j }{\\partial b_{j}} =  1 $$\n",
        "\n",
        "\n",
        "#### 2. Derivative of the softmax function\n",
        "\n",
        "Let $\\Omega =  \\sum\\limits_{k = 1}^{10} e^{z_k}$, let compute the partial derivatives for the Jacobian matrix (10 x 10) $\\frac{\\partial a_p}{\\partial z_q}$:\n",
        "\n",
        "$$\n",
        "\\begin{split}\n",
        "\\text{if} \\; p = q :& \\frac{\\partial a_p}{\\partial z_p} = \\frac{\\partial \\frac{e^{z_p}}{\\Omega}}{\\partial z_p} = \\frac{e^{z_p}\\Omega - e^{z_p}e^{z_p}}{\\Omega^2} = \\frac{e^{z_p}}{\\Omega}\\frac{\\Omega - e^{z_p}}{\\Omega} = \\frac{e^{z_p}}{\\Omega}(1-\\frac{e^{z_p}}{\\Omega}) =  y_p (1 - y_p)\\\\\n",
        "\\text{if} \\; p \\neq q :& \\frac{\\partial y_p}{\\partial z_q} = \\frac{\\partial \\frac{e^{z_p}}{\\Omega}}{\\partial z_q} = \\frac{0 - e^{z_p}e^{z_q}}{\\Omega^2} = -\\frac{e^{z_p}}{\\Omega} \\frac{e^{z_1}}{\\Omega} = -y_p y_q\n",
        "\\end{split}\n",
        "$$\n",
        "\n",
        "#### 3. Derivative of the cross entropy loss for the softmax function\n",
        "$$\\begin{split}\n",
        "\\frac{\\partial \\mathcal{L}}{\\partial z_i} & = - \\sum_{j=1}^{10} \\frac{\\partial y_j log(a_j)}{\\partial z_i}{} =\n",
        "- \\sum_{j=1}^{10} y_j \\frac{\\partial log(a_j)}{\\partial z_i} = - \\sum_{j=1}^{10} y_j \\frac{1}{a_j} \\frac{\\partial a_j}{\\partial z_i} \\\\\n",
        "& = - \\frac{y_i}{a_i} \\frac{\\partial a_i}{\\partial z_i} - \\sum_{j \\neq i}^{10} \\frac{y_j}{a_j} \\frac{\\partial a_j}{\\partial z_i}\n",
        "= - \\frac{y_i}{a_i} a_i (1-a_i) - \\sum_{j \\neq i}^{10} \\frac{y_j}{a_j} (-a_j a_i) \\\\\n",
        "& = - y_i + y_i a_i + \\sum_{j \\neq i}^{10} y_j a_i = - y_i + \\sum_{j = 1}^{10} y_j a_i\n",
        "= -y_i + a_i \\sum_{j = 1}^{10} y_j \\\\\n",
        "& = a_i - y_i\n",
        "\\end{split}$$\n",
        "\n",
        "#### 3. Derivative of the cross entropy loss for $w$ and $b$\n",
        "\n",
        "$$\\frac{\\partial \\mathcal{L} }{\\partial w_{i, j}} = \\frac{\\partial \\mathcal{L}}{\\partial z_j} \\frac{\\partial z_j }{\\partial w_{i, j}} = (a_j - y_j) x_i $$\n",
        "\n",
        "$$\\frac{\\partial \\mathcal{L} }{\\partial b_{j}} = \\frac{\\partial \\mathcal{L}}{\\partial z_j} \\frac{\\partial z_j }{\\partial b_{j}} = a_j - y_j $$"
      ]
    },
    {
      "metadata": {
        "id": "D7unQjyK1ecT",
        "colab_type": "text"
      },
      "cell_type": "markdown",
      "source": [
        "## Vectorization for m training examples \n",
        "\n",
        "\n",
        "### 1. Forward propagation\n",
        "\n",
        "let's use the convention that the data matrix $X$ with shape $m \\times n$ has $m$ training examples and $n$ features for each example:\n",
        "\n",
        "$$\n",
        "X_{(m, n)}=\n",
        "\\begin{bmatrix} \n",
        "\\dots x^{(1)} \\dots \\\\\n",
        "\\vdots \\\\\n",
        "\\dots x^{(m)} \\dots \\\\\n",
        "\\end{bmatrix}\n",
        "$$\n",
        "\n",
        "$$W_{(n, 10)}=\n",
        "\\begin{bmatrix} \n",
        "\\vdots \\dots \\vdots \\\\w^{(1)} \\dots w^{(10)} \\\\ \\vdots \\dots \\vdots \\\\\n",
        "\\end{bmatrix}$$\n",
        "\n",
        "$$Z_{(m, 10)} = X W$$\n",
        "\n",
        "$$A_{(m, 10)} = \\text{softmax}(Z_{(m, 10)})$$\n",
        "\n",
        "Also, we have $Y_{(m, 10)}$, then the cross entropy loss is:\n",
        "$$J = - \\frac{1}{m} || Y * \\log A ||_{F} = - \\frac{1}{m} \\sum\\limits_{i=1}^m \\sum\\limits_{j=1}^{10} Y_{i,j} \\log A_{i,j}$$\n",
        "\n",
        "### 2. Backward propagation\n",
        "$$dZ = Y - A$$\n",
        "$$dW = \\frac{1}{m} X^T (Y - A)$$\n",
        "$$db = \\frac{1}{m} (Y - A).sum(axis = 0)$$"
      ]
    },
    {
      "metadata": {
        "id": "Tqa-SioG1fDS",
        "colab_type": "code",
        "colab": {}
      },
      "cell_type": "code",
      "source": [
        "def linear_forward(X, W, b):\n",
        "    \"\"\"\n",
        "    Arguments:\n",
        "    X -- data matrix (m, n)\n",
        "    W -- weight matrix (n, num of class)\n",
        "    b -- bias vector (1, num of class)\n",
        "    \n",
        "    Return: \n",
        "    Z -- input of activation function (m, 10)\n",
        "    \"\"\"\n",
        "    \n",
        "    Z = np.dot(X, W) + b\n",
        "    \n",
        "    \n",
        "    \n",
        "    assert(Z.shape == (X.shape[0], W.shape[1]) )\n",
        "    \n",
        "    return Z"
      ],
      "execution_count": 0,
      "outputs": []
    },
    {
      "metadata": {
        "id": "G0v0-T1N1p-6",
        "colab_type": "code",
        "colab": {}
      },
      "cell_type": "code",
      "source": [
        "def soft_max(Z):\n",
        "    \"\"\"\n",
        "    Arguments:\n",
        "    Z -- (m, num of class)\n",
        "    \n",
        "    Return:\n",
        "    A -- softmax matrix (m, num of class) \n",
        "    \"\"\"\n",
        "    exp_Z = np.exp(Z)\n",
        "    A = exp_Z / exp_Z.sum(axis = 1, keepdims = True) # sum along columns\n",
        "    \n",
        "    assert(A.shape == Z.shape )\n",
        "    \n",
        "    return A"
      ],
      "execution_count": 0,
      "outputs": []
    },
    {
      "metadata": {
        "id": "rxqG6Kfs1scc",
        "colab_type": "code",
        "colab": {}
      },
      "cell_type": "code",
      "source": [
        "def initialize_parameters(n, num_class):\n",
        "    \"\"\"\n",
        "    Return:\n",
        "    W -- (n, num of class)\n",
        "    b -- (1, num of class)\n",
        "    \"\"\"\n",
        "    np.random.seed(1)\n",
        "    W = np.random.randn(n, num_class) * 0.01\n",
        "    b = np.zeros((1, num_class))\n",
        "    \n",
        "    return W, b"
      ],
      "execution_count": 0,
      "outputs": []
    },
    {
      "metadata": {
        "id": "oEk5PLnE1vQb",
        "colab_type": "text"
      },
      "cell_type": "markdown",
      "source": [
        "## 2. Compute the cost function\n",
        "The cross entropy loss function for one example is $\\mathcal{L}(a, y) = -\\sum\\limits_{j = 1}^{10} a_{j} \\log y_{j}$. The overall loss is just the average of $\\mathcal{L}$ over all training examples: $$ J = \\frac{1}{m} \\sum\\limits_{i = 1}^{m} \\mathcal{L}(a^{(i)}, y^{(i)}) $$"
      ]
    },
    {
      "metadata": {
        "id": "icTMKOLp1t4y",
        "colab_type": "code",
        "colab": {
          "base_uri": "https://localhost:8080/",
          "height": 282
        },
        "outputId": "937f4a60-332a-4b41-9b6d-60195bacf306"
      },
      "cell_type": "code",
      "source": [
        "x = np.linspace(0.001, 1)\n",
        "y = - np.log(x)\n",
        "plt.plot(x, y)"
      ],
      "execution_count": 9,
      "outputs": [
        {
          "output_type": "execute_result",
          "data": {
            "text/plain": [
              "[<matplotlib.lines.Line2D at 0x7f15ad28b208>]"
            ]
          },
          "metadata": {
            "tags": []
          },
          "execution_count": 9
        },
        {
          "output_type": "display_data",
          "data": {
            "image/png": "[encoded data removed]",
            "text/plain": [
              "<matplotlib.figure.Figure at 0x7f15ad337358>"
            ]
          },
          "metadata": {
            "tags": []
          }
        }
      ]
    },
    {
      "metadata": {
        "id": "sXQmzmaw1yax",
        "colab_type": "text"
      },
      "cell_type": "markdown",
      "source": [
        "If $a_j = 1$, the cost function want $y_j$ to be large while it heavily penalizes small $y_j$. "
      ]
    },
    {
      "metadata": {
        "id": "I2e40Qnp12NO",
        "colab_type": "code",
        "colab": {}
      },
      "cell_type": "code",
      "source": [
        "def compute_cross_entropy_loss(A, Y):\n",
        "    \"\"\"\n",
        "    Arguments:\n",
        "    A -- prediction matrix of shape   (num of examples, num of class)\n",
        "    Y -- one-hot matrix of true class (num of examples, num of class)\n",
        "    Return:\n",
        "    lost (scalar)\n",
        "    \"\"\"\n",
        "    m = A.shape[0]\n",
        "    return -(Y * np.log(A)).sum() / m"
      ],
      "execution_count": 0,
      "outputs": []
    },
    {
      "metadata": {
        "id": "hkU11hwr14VR",
        "colab_type": "code",
        "colab": {}
      },
      "cell_type": "code",
      "source": [
        "def backward_propagation(X, A, Y):\n",
        "    \"\"\"\n",
        "    Arguments:\n",
        "    X -- data matrix shape:  (m, n)\n",
        "    A -- output of softmax:  (m, 10)\n",
        "    Y -- one-hot true labels:(m, 10)\n",
        "    \"\"\"\n",
        "    m = X.shape[0]\n",
        "    \n",
        "    dZ = A - Y\n",
        "    dW = 1/m * np.dot(X.T, dZ)\n",
        "    db = 1/m * np.sum(dZ, axis = 0, keepdims = True)\n",
        "    \n",
        "    return dW, db"
      ],
      "execution_count": 0,
      "outputs": []
    },
    {
      "metadata": {
        "id": "KRHEF3iY16oB",
        "colab_type": "text"
      },
      "cell_type": "markdown",
      "source": [
        "Now Let's verify the correctness of our backward propagation using gradient checking. The idea is to compare the analytical derivatives to the numerical derivatives using central difference. Let's just do this for weight matrix $W$"
      ]
    },
    {
      "metadata": {
        "id": "yHD2TT0K148D",
        "colab_type": "code",
        "colab": {}
      },
      "cell_type": "code",
      "source": [
        "def gradient_check(W, dW, X, Y, epsilon = 1e-7):\n",
        "    \"\"\"\n",
        "    Arguments:\n",
        "    W --  current weight matrix (num of feature, 10)\n",
        "    dW -- analytical derivative matrix (num of feature, 10)\n",
        "    X --  data matrix (num of examples, num of feature)\n",
        "    Y --  one-hot label (num of examples, 10)\n",
        "    \n",
        "    Return:\n",
        "    difference\n",
        "    \"\"\"\n",
        "    gradApprox = np.zeros((dW.shape[0], dW.shape[1]))\n",
        "    for i in range(0, W.shape[0]):\n",
        "        for j in range(0, W.shape[1]):\n",
        "            W_plus = np.copy(W)\n",
        "            W_minus = np.copy(W)\n",
        "            \n",
        "            W_plus[i, j] = W_plus[i, j] + epsilon\n",
        "            W_minus[i, j] = W_minus[i, j] - epsilon\n",
        "            \n",
        "            Z_plus = linear_forward(X, W_plus, b)\n",
        "            A_plus = soft_max(Z_plus)\n",
        "            J_plus = compute_cross_entropy_loss(A_plus, Y)\n",
        "\n",
        "            Z_minus = linear_forward(X, W_minus, b)\n",
        "            A_minus = soft_max(Z_minus)\n",
        "            J_minus = compute_cross_entropy_loss(A_minus, Y)\n",
        "            \n",
        "            gradApprox[i, j] = (J_plus - J_minus) / (2*epsilon)\n",
        "            \n",
        "    # Compare gradients\n",
        "    numerator = np.linalg.norm(gradApprox - dW)\n",
        "    denominator = np.linalg.norm(dW) + np.linalg.norm(gradApprox)\n",
        "    difference = numerator / denominator\n",
        "    \n",
        "    if difference > 3e-7:\n",
        "        print (\"\\033[93m\" + \"There is a mistake in the backward propagation! difference = \" + str(difference) + \"\\033[0m\")\n",
        "    else:\n",
        "        print (\"\\033[92m\" + \"Your backward propagation works perfectly fine! difference = \" + str(difference) + \"\\033[0m\")\n",
        "    \n",
        "    return difference"
      ],
      "execution_count": 0,
      "outputs": []
    },
    {
      "metadata": {
        "id": "cBudEfbH2AaK",
        "colab_type": "code",
        "colab": {}
      },
      "cell_type": "code",
      "source": [
        "num_feature = X_train.shape[1]\n",
        "num_class = 10\n",
        "\n",
        "W, b = initialize_parameters(num_feature, num_class)\n",
        "Z = linear_forward(X_train, W, b)\n",
        "A = soft_max(Z)\n",
        "dW, db = backward_propagation(X_train, A, Y_train_one_hot)\n",
        "\n",
        "#gradient_check(W, dW, X_train, Y_train_one_hot, epsilon = 1e-7)"
      ],
      "execution_count": 0,
      "outputs": []
    },
    {
      "metadata": {
        "id": "VjlhGdhX2C96",
        "colab_type": "code",
        "colab": {}
      },
      "cell_type": "code",
      "source": [
        "def mclr_model(X, Y, num_iterations = 10000, learning_rate = 1.0, print_cost = False):\n",
        "    \"\"\"\n",
        "    Arguments:\n",
        "    X -- data matrix of shape:    (m, n)\n",
        "    Y -- one-hot labels of shape: (m, num of class)\n",
        "    \n",
        "    Return:\n",
        "    W, b -- parameters of the model\n",
        "    \"\"\"\n",
        "    \n",
        "    num_feature = X.shape[1]\n",
        "    num_class = 10\n",
        "    costs = []\n",
        "    \n",
        "    W, b = initialize_parameters(num_feature, num_class)\n",
        "    \n",
        "    \n",
        "    # loop gradient decent\n",
        "    for i in range(0, num_iterations):\n",
        "        Z = linear_forward(X, W, b)\n",
        "        A = soft_max(Z)\n",
        "        \n",
        "        cost = compute_cross_entropy_loss(A, Y)\n",
        "        \n",
        "        dW, db = backward_propagation(X, A, Y)\n",
        "        \n",
        "        W = W - learning_rate * dW\n",
        "        b = b - learning_rate * db\n",
        "    \n",
        "        if print_cost and i % 100 == 0:\n",
        "            print(\"Cost after iteration %i: %f\" % (i, cost))\n",
        "        \n",
        "        costs.append(cost)\n",
        "        \n",
        "    \n",
        "    # plot the cost\n",
        "    plt.plot(np.squeeze(costs))\n",
        "    plt.ylabel('cost')\n",
        "    plt.xlabel('iterations (per hundreds)')\n",
        "    plt.title(\"learning rate = \" + str(learning_rate))\n",
        "    plt.show()\n",
        "    \n",
        "    return W, b"
      ],
      "execution_count": 0,
      "outputs": []
    },
    {
      "metadata": {
        "id": "MVLS45jp2E3S",
        "colab_type": "code",
        "colab": {
          "base_uri": "https://localhost:8080/",
          "height": 462
        },
        "outputId": "86640fce-5977-4fd4-9ae7-4746c222a7eb"
      },
      "cell_type": "code",
      "source": [
        "W, b = mclr_model(X_train, Y_train_one_hot, num_iterations = 1000, learning_rate = 0.9, print_cost = True)"
      ],
      "execution_count": 16,
      "outputs": [
        {
          "output_type": "stream",
          "text": [
            "Cost after iteration 0: 2.329673\n",
            "Cost after iteration 100: 0.344579\n",
            "Cost after iteration 200: 0.309545\n",
            "Cost after iteration 300: 0.293013\n",
            "Cost after iteration 400: 0.282683\n",
            "Cost after iteration 500: 0.275327\n",
            "Cost after iteration 600: 0.269677\n",
            "Cost after iteration 700: 0.265121\n",
            "Cost after iteration 800: 0.261321\n",
            "Cost after iteration 900: 0.258072\n"
          ],
          "name": "stdout"
        },
        {
          "output_type": "display_data",
          "data": {
            "image/png": "[encoded data removed]",
            "text/plain": [
              "<matplotlib.figure.Figure at 0x7f15ad25c128>"
            ]
          },
          "metadata": {
            "tags": []
          }
        }
      ]
    },
    {
      "metadata": {
        "id": "pIxcpYrw2GUy",
        "colab_type": "code",
        "colab": {}
      },
      "cell_type": "code",
      "source": [
        "def predict(W, b, X):\n",
        "    \"\"\"\n",
        "    Arguments:\n",
        "    W -- the learned weight matrix (num_feature, num_class)\n",
        "    b -- the learned bias   matrix (1, num_class)\n",
        "    X -- input data (m, num_feature)\n",
        "    \n",
        "    Return:\n",
        "    prediction -- softmax vector (1, num_feature)\n",
        "    \"\"\"\n",
        "    A = soft_max(linear_forward(X, W, b))\n",
        "    \n",
        "    prediction = np.argmax(A, axis = 1)\n",
        "    \n",
        "    return prediction"
      ],
      "execution_count": 0,
      "outputs": []
    },
    {
      "metadata": {
        "id": "fHm9Xs602ISz",
        "colab_type": "code",
        "colab": {
          "base_uri": "https://localhost:8080/",
          "height": 34
        },
        "outputId": "8f839d69-29c4-4747-8b5c-023eb1c0810c"
      },
      "cell_type": "code",
      "source": [
        "# Training accuracy\n",
        "Y_train_hat = predict(W, b, X_train)\n",
        "\n",
        "m = X_train.shape[0]\n",
        "num_correct = m - np.count_nonzero((np.squeeze(Y_train) - Y_train_hat))\n",
        "\n",
        "print(\"Training accuracy: %f\" % float(num_correct / m * 100.0) + \"%\" )"
      ],
      "execution_count": 18,
      "outputs": [
        {
          "output_type": "stream",
          "text": [
            "Training accuracy: 92.758730%\n"
          ],
          "name": "stdout"
        }
      ]
    },
    {
      "metadata": {
        "id": "ud2-Hu942Iyi",
        "colab_type": "code",
        "colab": {
          "base_uri": "https://localhost:8080/",
          "height": 34
        },
        "outputId": "5635f841-dc5b-451c-fa60-a0fd6b8743d2"
      },
      "cell_type": "code",
      "source": [
        "# Testing accuracy\n",
        "Y_test_hat = predict(W, b, X_test)\n",
        "\n",
        "m = X_test.shape[0]\n",
        "num_correct = m - np.count_nonzero((np.squeeze(Y_test) - Y_test_hat))\n",
        "\n",
        "print(\"Testing accuracy: %f\" % float(num_correct / m * 100.0) + \"%\")"
      ],
      "execution_count": 20,
      "outputs": [
        {
          "output_type": "stream",
          "text": [
            "Testing accuracy: 92.352381%\n"
          ],
          "name": "stdout"
        }
      ]
    },
    {
      "metadata": {
        "id": "gYEFShAnCer4",
        "colab_type": "code",
        "colab": {}
      },
      "cell_type": "code",
      "source": [
        ""
      ],
      "execution_count": 0,
      "outputs": []
    }
  ]
}