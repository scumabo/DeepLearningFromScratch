{
 "cells": [
  {
   "cell_type": "markdown",
   "metadata": {},
   "source": [
    "Given $\\{(x^{(1)}, y^{(1)}), ..., (x^{(n)}, y^{(n)})\\}$, the mathmatical expression of logistic regression:\n",
    "\n",
    "For one example $x^{(i)}$ (define $\\sigma(z^{(i)}) = \\frac{1}{1 + e^{-z^{(i)}}}$):\n",
    "$$z^{(i)} = w^T x^{(i)} + b \\tag{1}$$\n",
    "$$\\hat{y}^{(i)} = a^{(i)} = \\sigma(z^{(i)}) \\tag{2}$$\n",
    "$$ \\mathcal{L}(a^{(i)}, y^{(i)}) =  - y^{(i)}  \\log(a^{(i)}) - (1-y^{(i)} )  \\log(1-a^{(i)}) \\tag{3}$$\n",
    "\n",
    "The cost is then computed by summing over all training examples:\n",
    "$$ J = \\frac{1}{m} \\sum_{i=1}^m \\mathcal{L}(a^{(i)}, y^{(i)})\\tag{4}$$\n",
    "\n",
    "Now we derive the derivatives for gradient decent:\n",
    "\n",
    "$$da = -\\frac{y}{a} +\\frac{1-y}{1-a}$$\n",
    "$$dz = da*a*(1-a) = a - y$$\n",
    "$$dw = dz * x$$\n",
    "$$db = dz$$\n",
    "\n",
    "For vectorization:\n",
    "\n",
    "$$Z = W^TX + b$$\n",
    "$$A = \\sigma(Z) $$\n",
    "\n",
    "$$dA = -\\frac{Y}{A} + \\frac{1-Y}{1-A} $$\n",
    "$$dZ = A - Y $$\n",
    "$$ \\frac{\\partial J}{\\partial w} = \\frac{1}{m}X(A-Y)^T\\tag{7}$$\n",
    "$$ \\frac{\\partial J}{\\partial b} = \\frac{1}{m} \\sum_{i=1}^m (a^{(i)}-y^{(i)})\\tag{8}$$"
   ]
  },
  {
   "cell_type": "code",
   "execution_count": 9,
   "metadata": {},
   "outputs": [],
   "source": [
    "import numpy as np\n",
    "import pandas as pd\n",
    "import matplotlib.pyplot as plt\n",
    "from sklearn.model_selection import train_test_split\n",
    "%matplotlib inline\n",
    "\n",
    "path = '.\\data\\ex2data1.txt'\n",
    "data = pd.read_csv(path, header=None, names=['Exam 1', 'Exam 2', 'Admitted'])\n",
    "data.head()\n",
    "\n",
    "data = data.values"
   ]
  },
  {
   "cell_type": "code",
   "execution_count": 10,
   "metadata": {},
   "outputs": [
    {
     "name": "stdout",
     "output_type": "stream",
     "text": [
      "(100, 2)\n",
      "(100, 1)\n"
     ]
    }
   ],
   "source": [
    "data_X = data[:, 0:-1]\n",
    "data_Y = data[:, [-1]]\n",
    "\n",
    "print(data_X.shape)\n",
    "print(data_Y.shape)"
   ]
  },
  {
   "cell_type": "code",
   "execution_count": 11,
   "metadata": {},
   "outputs": [
    {
     "name": "stdout",
     "output_type": "stream",
     "text": [
      "(75, 2)\n",
      "(25, 2)\n",
      "(75, 1)\n",
      "(25, 1)\n"
     ]
    }
   ],
   "source": [
    "X_train, X_test, Y_train, Y_test = train_test_split(data_X, data_Y, random_state = 0)\n",
    "\n",
    "print(X_train.shape)\n",
    "print(X_test.shape)\n",
    "print(Y_train.shape)\n",
    "print(Y_test.shape)"
   ]
  },
  {
   "cell_type": "code",
   "execution_count": 12,
   "metadata": {},
   "outputs": [],
   "source": [
    "def sigmoid(z):\n",
    "    \"\"\"\n",
    "    Arguements:\n",
    "    z -- numpy array (1, number of observations) or any size\n",
    "    \n",
    "    Return:\n",
    "    sigmoid(z)\n",
    "    \"\"\"\n",
    "    return 1 / (1 + np.exp(-z))"
   ]
  },
  {
   "cell_type": "code",
   "execution_count": 13,
   "metadata": {},
   "outputs": [],
   "source": [
    "def initialize_parameters(m):\n",
    "    \"\"\"\n",
    "    Initialize weight vector w and bia b\n",
    "    Arguments:\n",
    "    m: number of features\n",
    "    \n",
    "    Returns:\n",
    "    w -- (m, 1)\n",
    "    b -- scalar\n",
    "    \"\"\"\n",
    "    \n",
    "    w = np.random.randn(m, 2)\n",
    "    b = 0\n",
    "    \n",
    "    return w, b"
   ]
  },
  {
   "cell_type": "code",
   "execution_count": 14,
   "metadata": {},
   "outputs": [],
   "source": [
    "def propagate(w, b, X, Y):\n",
    "    \"\"\"\n",
    "    Arguments:\n",
    "    w -- weights (m, 1)\n",
    "    b -- scalar\n",
    "    X -- data matrix (m, n)\n",
    "    Y -- label (1, n)\n",
    "    Return:\n",
    "    cost -- cross entropy cost\n",
    "    dw -- (m, 1)\n",
    "    db -- scalar\n",
    "    \"\"\"\n",
    "    \n",
    "    n = X.shape[1]\n",
    "    \n",
    "    # Forward propagation\n",
    "    A = sigmoid(np.dot(w.T, X) + b)\n",
    "    \n",
    "    cost = -( Y*np.log(A) + (1-Y) * np.log(1 - A) ).sum() / n\n",
    "    \n",
    "    # Backward propagation\n",
    "    dw = np.dot(X, (A - Y).T)/n\n",
    "    db = (A - Y).sum()/n\n",
    "    \n",
    "    assert(dw.shape == w.shape)\n",
    "    assert(db.dtype == float)\n",
    "    cost = np.squeeze(cost)\n",
    "    assert(cost.shape == ())\n",
    "    \n",
    "    grads = {\"dw\": dw,\n",
    "             \"db\": db}\n",
    "    \n",
    "    return grads, cost\n",
    "    "
   ]
  },
  {
   "cell_type": "code",
   "execution_count": 23,
   "metadata": {},
   "outputs": [],
   "source": [
    "def gradient_decent(w, b, X, Y, num_iterations, learning_rate, print_cost = False):\n",
    "    \n",
    "    costs = []\n",
    "    \n",
    "    for i in range(num_iterations):\n",
    "        grads, cost = propagate(w, b, X, Y)\n",
    "        \n",
    "        dw = grads[\"dw\"]\n",
    "        db = grads[\"db\"]\n",
    "\n",
    "        w = w - learning_rate * dw\n",
    "        b = b - learning_rate * db\n",
    "        \n",
    "        if i % 100 == 0:\n",
    "            costs.append(cost)\n",
    "\n",
    "        # Print the cost every 100 training iterations\n",
    "        if print_cost and i % 10 == 0:\n",
    "            print (\"Cost after iteration %i: %f\" %(i, cost))\n",
    "    \n",
    "    params = {\"w\": w,\n",
    "              \"b\": b}\n",
    "    \n",
    "    grads = {\"dw\": dw,\n",
    "             \"db\": db}\n",
    "    \n",
    "    return params, grads, costs"
   ]
  },
  {
   "cell_type": "code",
   "execution_count": 48,
   "metadata": {},
   "outputs": [
    {
     "name": "stdout",
     "output_type": "stream",
     "text": [
      "Cost after iteration 0: nan\n",
      "Cost after iteration 10: nan\n",
      "Cost after iteration 20: 12.261729\n",
      "Cost after iteration 30: nan\n",
      "Cost after iteration 40: nan\n",
      "Cost after iteration 50: nan\n",
      "Cost after iteration 60: 10.671490\n",
      "Cost after iteration 70: nan\n",
      "Cost after iteration 80: 11.944546\n",
      "Cost after iteration 90: 11.899539\n",
      "Cost after iteration 100: nan\n",
      "Cost after iteration 110: 13.596947\n",
      "Cost after iteration 120: 4.299326\n",
      "Cost after iteration 130: nan\n",
      "Cost after iteration 140: 9.731182\n",
      "Cost after iteration 150: 6.596018\n",
      "Cost after iteration 160: nan\n",
      "Cost after iteration 170: 10.912962\n",
      "Cost after iteration 180: 10.115295\n",
      "Cost after iteration 190: nan\n"
     ]
    },
    {
     "name": "stderr",
     "output_type": "stream",
     "text": [
      "C:\\Users\\XiaoBo\\Anaconda3\\lib\\site-packages\\ipykernel_launcher.py:19: RuntimeWarning: divide by zero encountered in log\n",
      "C:\\Users\\XiaoBo\\Anaconda3\\lib\\site-packages\\ipykernel_launcher.py:19: RuntimeWarning: invalid value encountered in multiply\n"
     ]
    }
   ],
   "source": [
    "w, b = initialize_parameters(X_train.shape[1])\n",
    "params, grads, costs = gradient_decent(w, b, X_train.T, Y_train.T, num_iterations= 200, learning_rate = 0.009, print_cost = True)"
   ]
  }
 ],
 "metadata": {
  "kernelspec": {
   "display_name": "Python 3",
   "language": "python",
   "name": "python3"
  },
  "language_info": {
   "codemirror_mode": {
    "name": "ipython",
    "version": 3
   },
   "file_extension": ".py",
   "mimetype": "text/x-python",
   "name": "python",
   "nbconvert_exporter": "python",
   "pygments_lexer": "ipython3",
   "version": "3.6.5"
  }
 },
 "nbformat": 4,
 "nbformat_minor": 2
}
