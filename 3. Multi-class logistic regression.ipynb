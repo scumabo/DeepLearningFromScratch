{
 "cells": [
  {
   "cell_type": "markdown",
   "metadata": {},
   "source": [
    "# 1. Softmax logistic regression"
   ]
  },
  {
   "cell_type": "code",
   "execution_count": 1,
   "metadata": {},
   "outputs": [],
   "source": [
    "import numpy as np\n",
    "import pandas as pd\n",
    "import matplotlib.pyplot as plt\n",
    "from sklearn.model_selection import train_test_split\n",
    "%matplotlib inline"
   ]
  },
  {
   "cell_type": "code",
   "execution_count": 2,
   "metadata": {},
   "outputs": [
    {
     "name": "stdout",
     "output_type": "stream",
     "text": [
      "Number of training examples = 31500\n",
      "Number of testing examples = 10500\n",
      "Number of features = 784\n"
     ]
    }
   ],
   "source": [
    "data = pd.read_csv(\"data/MNIST_train.csv\").values\n",
    "\n",
    "X_data = data[:, 1:]\n",
    "Y_data = data[:, [0]]\n",
    "\n",
    "X_train, X_test, Y_train, Y_test = train_test_split(X_data, Y_data, random_state = 0)\n",
    "\n",
    "print(\"Number of training examples = \" + str(X_train.shape[0]) )\n",
    "print(\"Number of testing examples = \" + str(X_test.shape[0]) )\n",
    "print(\"Number of features = \" +  str(X_train.shape[1]) )"
   ]
  },
  {
   "cell_type": "code",
   "execution_count": 3,
   "metadata": {},
   "outputs": [
    {
     "data": {
      "text/plain": [
       "Text(0.5,1,'label is [5]')"
      ]
     },
     "execution_count": 3,
     "metadata": {},
     "output_type": "execute_result"
    },
    {
     "data": {
      "image/png": "[encoded data removed]",
      "text/plain": [
       "<Figure size 432x288 with 1 Axes>"
      ]
     },
     "metadata": {},
     "output_type": "display_data"
    }
   ],
   "source": [
    "index = 10\n",
    "sampleImg = np.reshape(X_train[index, :], [28, 28])\n",
    "\n",
    "ax = plt.imshow(sampleImg)\n",
    "plt.title(\"label is \" + str(Y_train[index, :]))"
   ]
  },
  {
   "cell_type": "markdown",
   "metadata": {},
   "source": [
    "Simple standardization for images"
   ]
  },
  {
   "cell_type": "code",
   "execution_count": 4,
   "metadata": {},
   "outputs": [],
   "source": [
    "X_train = X_train / 255\n",
    "X_test = X_test / 255"
   ]
  },
  {
   "cell_type": "markdown",
   "metadata": {},
   "source": [
    "Convert labels to its one-hot encoding for defining the loss function of softmax classification"
   ]
  },
  {
   "cell_type": "code",
   "execution_count": 5,
   "metadata": {},
   "outputs": [],
   "source": [
    "def one_hot_matrix(Y, num_class):\n",
    "    \"\"\"\n",
    "    Convert an array of Y to its one_hot_matrix\n",
    "    \n",
    "    Arguments:\n",
    "    Y -- array (number of examples, 1)\n",
    "    num_class -- num of classes\n",
    "    \n",
    "    Return:\n",
    "    Y_one_hot -- (number of examples, num_class)\n",
    "    \"\"\"\n",
    "    Y_one_hot = np.zeros((Y.shape[0], num_class))\n",
    "    Y_one_hot[np.arange(Y.shape[0]), Y.T] = 1\n",
    "    \n",
    "    return Y_one_hot"
   ]
  },
  {
   "cell_type": "code",
   "execution_count": 6,
   "metadata": {},
   "outputs": [
    {
     "name": "stdout",
     "output_type": "stream",
     "text": [
      "Letter 9 converted to [0. 0. 0. 0. 0. 0. 0. 0. 0. 1.]\n"
     ]
    }
   ],
   "source": [
    "Y_train_one_hot = one_hot_matrix(Y_train, 10)\n",
    "Y_test_one_hot = one_hot_matrix(Y_test, 10)\n",
    "\n",
    "index = 2\n",
    "print(\"Letter \" + str(Y_train[index, 0]) + \" converted to \" + str(Y_train_one_hot[index, :]))"
   ]
  },
  {
   "cell_type": "markdown",
   "metadata": {},
   "source": [
    "## Math for one training example\n",
    "\n",
    "###  1. Forward propagation\n",
    "\n",
    "We treate the softmax classification problem as a 1-layer neural network with 10 nerons (add image). Each neural is just a linear combination of all input features, and the softmax activation function takes effect for all neurons.\n",
    "\n",
    "For one example $\\{x_1, ..., x_{n} \\}$ (use column vectors in the following for legibility):\n",
    "\n",
    "#### Linear forward\n",
    "\n",
    "$$\n",
    "Z\n",
    "=\n",
    "\\begin{bmatrix} \n",
    "z_1 \\\\\n",
    "\\vdots \\\\\n",
    "z_j \\\\\n",
    "\\vdots \\\\\n",
    "z_{10} \\\\\n",
    "\\end{bmatrix}\n",
    "=\n",
    "\\begin{bmatrix} \n",
    "\\sum\\limits_{i=1}^{n} w_{i, 1} x_{i} \\\\\n",
    "\\vdots \\\\\n",
    "\\sum\\limits_{i=1}^{n} w_{i, j} x_{i} \\\\\n",
    "\\vdots \\\\\n",
    "\\sum\\limits_{i=1}^{n} w_{i, 10} x_{i} \\\\\n",
    "\\end{bmatrix}\n",
    "+\n",
    "\\begin{bmatrix} \n",
    "b_1 \\\\\n",
    "\\vdots \\\\\n",
    "b_j \\\\\n",
    "\\vdots \\\\\n",
    "b_{10} \\\\\n",
    "\\end{bmatrix}\n",
    "$$\n",
    "\n",
    "#### Softmax\n",
    "\n",
    "$$\n",
    "\\begin{bmatrix} \n",
    "z_1 \\\\\n",
    "\\vdots \\\\\n",
    "z_{10} \\\\\n",
    "\\end{bmatrix}\n",
    "\\Rightarrow \n",
    "\\begin{bmatrix} \n",
    "\\frac{e^{z_1} }{\\sum\\limits_{k = 1}^{10} e^{z_k} } \\\\\n",
    "\\vdots \\\\\n",
    "\\frac{e^{z_10} }{\\sum\\limits_{k = 1}^{10} e^{z_k} } \\\\\n",
    "\\end{bmatrix}=\n",
    "\\begin{bmatrix} \n",
    "a_1 \\\\\n",
    "\\vdots \\\\\n",
    "a_{10} \\\\\n",
    "\\end{bmatrix}=\n",
    "a\n",
    "$$\n",
    "\n",
    "\n",
    "### 2. Cross entropy loss\n",
    "\n",
    "$$ \\mathcal{L}(a, y) = -\\sum\\limits_{j = 1} ^{10} y_{j} \\log a_{j} $$\n",
    "\n",
    "### 3. Backward propagation\n",
    "\n",
    "#### 1. Derivative of linear function\n",
    "\n",
    "$$ \\frac{\\partial z_j }{\\partial w_{i, j}} =  x_i $$\n",
    "\n",
    "$$ \\frac{\\partial z_j }{\\partial b_{j}} =  1 $$\n",
    "\n",
    "\n",
    "#### 2. Derivative of the softmax function\n",
    "\n",
    "Let $\\Omega =  \\sum\\limits_{k = 1}^{10} e^{z_k}$, let compute the partial derivatives for the Jacobian matrix (10 x 10) $\\frac{\\partial a_p}{\\partial z_q}$:\n",
    "\n",
    "$$\n",
    "\\begin{split}\n",
    "\\text{if} \\; p = q :& \\frac{\\partial a_p}{\\partial z_p} = \\frac{\\partial \\frac{e^{z_p}}{\\Omega}}{\\partial z_p} = \\frac{e^{z_p}\\Omega - e^{z_p}e^{z_p}}{\\Omega^2} = \\frac{e^{z_p}}{\\Omega}\\frac{\\Omega - e^{z_p}}{\\Omega} = \\frac{e^{z_p}}{\\Omega}(1-\\frac{e^{z_p}}{\\Omega}) =  y_p (1 - y_p)\\\\\n",
    "\\text{if} \\; p \\neq q :& \\frac{\\partial y_p}{\\partial z_q} = \\frac{\\partial \\frac{e^{z_p}}{\\Omega}}{\\partial z_q} = \\frac{0 - e^{z_p}e^{z_q}}{\\Omega^2} = -\\frac{e^{z_p}}{\\Omega} \\frac{e^{z_1}}{\\Omega} = -y_p y_q\n",
    "\\end{split}\n",
    "$$\n",
    "\n",
    "#### 3. Derivative of the cross entropy loss for the softmax function\n",
    "$$\\begin{split}\n",
    "\\frac{\\partial \\mathcal{L}}{\\partial z_i} & = - \\sum_{j=1}^{10} \\frac{\\partial y_j log(a_j)}{\\partial z_i}{} =\n",
    "- \\sum_{j=1}^{10} y_j \\frac{\\partial log(a_j)}{\\partial z_i} = - \\sum_{j=1}^{10} y_j \\frac{1}{a_j} \\frac{\\partial a_j}{\\partial z_i} \\\\\n",
    "& = - \\frac{y_i}{a_i} \\frac{\\partial a_i}{\\partial z_i} - \\sum_{j \\neq i}^{10} \\frac{y_j}{a_j} \\frac{\\partial a_j}{\\partial z_i}\n",
    "= - \\frac{y_i}{a_i} a_i (1-a_i) - \\sum_{j \\neq i}^{10} \\frac{y_j}{a_j} (-a_j a_i) \\\\\n",
    "& = - y_i + y_i a_i + \\sum_{j \\neq i}^{10} y_j a_i = - y_i + \\sum_{j = 1}^{10} y_j a_i\n",
    "= -y_i + a_i \\sum_{j = 1}^{10} y_j \\\\\n",
    "& = a_i - y_i\n",
    "\\end{split}$$\n",
    "\n",
    "#### 3. Derivative of the cross entropy loss for $w$ and $b$\n",
    "\n",
    "$$\\frac{\\partial \\mathcal{L} }{\\partial w_{i, j}} = \\frac{\\partial \\mathcal{L}}{\\partial z_j} \\frac{\\partial z_j }{\\partial w_{i, j}} = (a_j - y_j) x_i $$\n",
    "\n",
    "$$\\frac{\\partial \\mathcal{L} }{\\partial b_{j}} = \\frac{\\partial \\mathcal{L}}{\\partial z_j} \\frac{\\partial z_j }{\\partial b_{j}} = a_j - y_j $$"
   ]
  },
  {
   "cell_type": "markdown",
   "metadata": {},
   "source": [
    "## Vectorization for m training examples \n",
    "\n",
    "\n",
    "### 1. Forward propagation\n",
    "\n",
    "let's use the convention that the data matrix $X$ with shape $m \\times n$ has $m$ training examples and $n$ features for each example:\n",
    "\n",
    "$$\n",
    "X_{(m, n)}=\n",
    "\\begin{bmatrix} \n",
    "\\dots x^{(1)} \\dots \\\\\n",
    "\\vdots \\\\\n",
    "\\dots x^{(m)} \\dots \\\\\n",
    "\\end{bmatrix}\n",
    "$$\n",
    "\n",
    "$$W_{(n, 10)}=\n",
    "\\begin{bmatrix} \n",
    "\\vdots \\dots \\vdots \\\\w^{(1)} \\dots w^{(10)} \\\\ \\vdots \\dots \\vdots \\\\\n",
    "\\end{bmatrix}$$\n",
    "\n",
    "$$Z_{(m, 10)} = X W$$\n",
    "\n",
    "$$A_{(m, 10)} = \\text{softmax}(Z_{(m, 10)})$$\n",
    "\n",
    "Also, we have $Y_{(m, 10)}$, then the cross entropy loss is:\n",
    "$$J = - \\frac{1}{m} || Y * \\log A ||_{F} = - \\frac{1}{m} \\sum\\limits_{i=1}^m \\sum\\limits_{j=1}^{10} Y_{i,j} \\log A_{i,j}$$\n",
    "\n",
    "### 2. Backward propagation\n",
    "$$dZ = Y - A$$\n",
    "$$dW = \\frac{1}{m} X^T (Y - A)$$\n",
    "$$db = \\frac{1}{m} (Y - A).sum(axis = 0)$$"
   ]
  },
  {
   "cell_type": "code",
   "execution_count": 7,
   "metadata": {},
   "outputs": [],
   "source": [
    "def linear_forward(X, W, b):\n",
    "    \"\"\"\n",
    "    Arguments:\n",
    "    X -- data matrix (m, n)\n",
    "    W -- weight matrix (n, num of class)\n",
    "    b -- bias vector (1, num of class)\n",
    "    \n",
    "    Return: \n",
    "    Z -- input of activation function (m, 10)\n",
    "    \"\"\"\n",
    "    \n",
    "    Z = np.dot(X, W) + b\n",
    "    \n",
    "    \n",
    "    \n",
    "    assert(Z.shape == (X.shape[0], W.shape[1]) )\n",
    "    \n",
    "    return Z"
   ]
  },
  {
   "cell_type": "code",
   "execution_count": 8,
   "metadata": {},
   "outputs": [],
   "source": [
    "def soft_max(Z):\n",
    "    \"\"\"\n",
    "    Arguments:\n",
    "    Z -- (m, num of class)\n",
    "    \n",
    "    Return:\n",
    "    A -- softmax matrix (m, num of class) \n",
    "    \"\"\"\n",
    "    exp_Z = np.exp(Z)\n",
    "    A = exp_Z / exp_Z.sum(axis = 1, keepdims = True) # sum along columns\n",
    "    \n",
    "    assert(A.shape == Z.shape )\n",
    "    \n",
    "    return A"
   ]
  },
  {
   "cell_type": "code",
   "execution_count": 9,
   "metadata": {},
   "outputs": [],
   "source": [
    "def initialize_parameters(n, num_class):\n",
    "    \"\"\"\n",
    "    Return:\n",
    "    W -- (n, num of class)\n",
    "    b -- (1, num of class)\n",
    "    \"\"\"\n",
    "    np.random.seed(1)\n",
    "    W = np.random.randn(n, num_class) * 0.01\n",
    "    b = np.zeros((1, num_class))\n",
    "    \n",
    "    return W, b"
   ]
  },
  {
   "cell_type": "markdown",
   "metadata": {},
   "source": [
    "## 2. Compute the cost function\n",
    "The cross entropy loss function for one example is $\\mathcal{L}(a, y) = -\\sum\\limits_{j = 1}^{10} a_{j} \\log y_{j}$. The overall loss is just the average of $\\mathcal{L}$ over all training examples: $$ J = \\frac{1}{m} \\sum\\limits_{i = 1}^{m} \\mathcal{L}(a^{(i)}, y^{(i)}) $$"
   ]
  },
  {
   "cell_type": "code",
   "execution_count": 10,
   "metadata": {},
   "outputs": [
    {
     "data": {
      "text/plain": [
       "[<matplotlib.lines.Line2D at 0xab906d8>]"
      ]
     },
     "execution_count": 10,
     "metadata": {},
     "output_type": "execute_result"
    },
    {
     "data": {
      "image/png": "[encoded data removed]",
      "text/plain": [
       "<Figure size 432x288 with 1 Axes>"
      ]
     },
     "metadata": {},
     "output_type": "display_data"
    }
   ],
   "source": [
    "x = np.linspace(0.001, 1)\n",
    "y = - np.log(x)\n",
    "plt.plot(x, y)"
   ]
  },
  {
   "cell_type": "markdown",
   "metadata": {},
   "source": [
    "If $a_j = 1$, the cost function want $y_j$ to be large while it heavily penalizes small $y_j$. "
   ]
  },
  {
   "cell_type": "code",
   "execution_count": 11,
   "metadata": {},
   "outputs": [],
   "source": [
    "def compute_cross_entropy_loss(A, Y):\n",
    "    \"\"\"\n",
    "    Arguments:\n",
    "    A -- prediction matrix of shape   (num of examples, num of class)\n",
    "    Y -- one-hot matrix of true class (num of examples, num of class)\n",
    "    Return:\n",
    "    lost (scalar)\n",
    "    \"\"\"\n",
    "    m = A.shape[0]\n",
    "    return -(Y * np.log(A)).sum() / m\n",
    "    "
   ]
  },
  {
   "cell_type": "code",
   "execution_count": 12,
   "metadata": {},
   "outputs": [],
   "source": [
    "def backward_propagation(X, A, Y):\n",
    "    \"\"\"\n",
    "    Arguments:\n",
    "    X -- data matrix shape:  (m, n)\n",
    "    A -- output of softmax:  (m, 10)\n",
    "    Y -- one-hot true labels:(m, 10)\n",
    "    \"\"\"\n",
    "    m = X.shape[0]\n",
    "    \n",
    "    dZ = A - Y\n",
    "    dW = 1/m * np.dot(X.T, dZ)\n",
    "    db = 1/m * np.sum(dZ, axis = 0, keepdims = True)\n",
    "    \n",
    "    return dW, db"
   ]
  },
  {
   "cell_type": "markdown",
   "metadata": {},
   "source": [
    "Now Let's verify the correctness of our backward propagation using gradient checking. The idea is to compare the analytical derivatives to the numerical derivatives using central difference. Let's just do this for weight matrix $W$"
   ]
  },
  {
   "cell_type": "code",
   "execution_count": 13,
   "metadata": {},
   "outputs": [],
   "source": [
    "def gradient_check(W, dW, X, Y, epsilon = 1e-7):\n",
    "    \"\"\"\n",
    "    Arguments:\n",
    "    W --  current weight matrix (num of feature, 10)\n",
    "    dW -- analytical derivative matrix (num of feature, 10)\n",
    "    X --  data matrix (num of examples, num of feature)\n",
    "    Y --  one-hot label (num of examples, 10)\n",
    "    \n",
    "    Return:\n",
    "    difference\n",
    "    \"\"\"\n",
    "    gradApprox = np.zeros((dW.shape[0], dW.shape[1]))\n",
    "    for i in range(0, W.shape[0]):\n",
    "        for j in range(0, W.shape[1]):\n",
    "            W_plus = np.copy(W)\n",
    "            W_minus = np.copy(W)\n",
    "            \n",
    "            W_plus[i, j] = W_plus[i, j] + epsilon\n",
    "            W_minus[i, j] = W_minus[i, j] - epsilon\n",
    "            \n",
    "            Z_plus = linear_forward(X, W_plus, b)\n",
    "            A_plus = soft_max(Z_plus)\n",
    "            J_plus = compute_cross_entropy_loss(A_plus, Y)\n",
    "\n",
    "            Z_minus = linear_forward(X, W_minus, b)\n",
    "            A_minus = soft_max(Z_minus)\n",
    "            J_minus = compute_cross_entropy_loss(A_minus, Y)\n",
    "            \n",
    "            gradApprox[i, j] = (J_plus - J_minus) / (2*epsilon)\n",
    "            \n",
    "    # Compare gradients\n",
    "    numerator = np.linalg.norm(gradApprox - dW)\n",
    "    denominator = np.linalg.norm(dW) + np.linalg.norm(gradApprox)\n",
    "    difference = numerator / denominator\n",
    "    \n",
    "    if difference > 3e-7:\n",
    "        print (\"\\033[93m\" + \"There is a mistake in the backward propagation! difference = \" + str(difference) + \"\\033[0m\")\n",
    "    else:\n",
    "        print (\"\\033[92m\" + \"Your backward propagation works perfectly fine! difference = \" + str(difference) + \"\\033[0m\")\n",
    "    \n",
    "    return difference"
   ]
  },
  {
   "cell_type": "code",
   "execution_count": 15,
   "metadata": {},
   "outputs": [],
   "source": [
    "num_feature = X_train.shape[1]\n",
    "num_class = 10\n",
    "\n",
    "W, b = initialize_parameters(num_feature, num_class)\n",
    "Z = linear_forward(X_train, W, b)\n",
    "A = soft_max(Z)\n",
    "dW, db = backward_propagation(X_train, A, Y_train_one_hot)\n",
    "\n",
    "#gradient_check(W, dW, X_train, Y_train_one_hot, epsilon = 1e-7)"
   ]
  },
  {
   "cell_type": "code",
   "execution_count": 16,
   "metadata": {},
   "outputs": [],
   "source": [
    "def mclr_model(X, Y, num_iterations = 10000, learning_rate = 1.0, print_cost = False):\n",
    "    \"\"\"\n",
    "    Arguments:\n",
    "    X -- data matrix of shape:    (m, n)\n",
    "    Y -- one-hot labels of shape: (m, num of class)\n",
    "    \n",
    "    Return:\n",
    "    W, b -- parameters of the model\n",
    "    \"\"\"\n",
    "    \n",
    "    num_feature = X.shape[1]\n",
    "    num_class = 10\n",
    "    costs = []\n",
    "    \n",
    "    W, b = initialize_parameters(num_feature, num_class)\n",
    "    \n",
    "    \n",
    "    # loop gradient decent\n",
    "    for i in range(0, num_iterations):\n",
    "        Z = linear_forward(X, W, b)\n",
    "        A = soft_max(Z)\n",
    "        \n",
    "        cost = compute_cross_entropy_loss(A, Y)\n",
    "        \n",
    "        dW, db = backward_propagation(X, A, Y)\n",
    "        \n",
    "        W = W - learning_rate * dW\n",
    "        b = b - learning_rate * db\n",
    "    \n",
    "        if print_cost and i % 100 == 0:\n",
    "            print(\"Cost after iteration %i: %f\" % (i, cost))\n",
    "        \n",
    "        costs.append(cost)\n",
    "        \n",
    "    \n",
    "    # plot the cost\n",
    "    plt.plot(np.squeeze(costs))\n",
    "    plt.ylabel('cost')\n",
    "    plt.xlabel('iterations (per hundreds)')\n",
    "    plt.title(\"learning rate = \" + str(learning_rate))\n",
    "    plt.show()\n",
    "    \n",
    "    return W, b"
   ]
  },
  {
   "cell_type": "code",
   "execution_count": 17,
   "metadata": {},
   "outputs": [
    {
     "name": "stdout",
     "output_type": "stream",
     "text": [
      "Cost after iteration 0: 2.329673\n",
      "Cost after iteration 100: 0.344579\n",
      "Cost after iteration 200: 0.309545\n",
      "Cost after iteration 300: 0.293013\n",
      "Cost after iteration 400: 0.282683\n",
      "Cost after iteration 500: 0.275327\n",
      "Cost after iteration 600: 0.269677\n",
      "Cost after iteration 700: 0.265121\n",
      "Cost after iteration 800: 0.261321\n",
      "Cost after iteration 900: 0.258072\n"
     ]
    },
    {
     "data": {
      "image/png": "[encoded data removed]",
      "text/plain": [
       "<Figure size 432x288 with 1 Axes>"
      ]
     },
     "metadata": {},
     "output_type": "display_data"
    }
   ],
   "source": [
    "W, b = mclr_model(X_train, Y_train_one_hot, num_iterations = 1000, learning_rate = 0.9, print_cost = True)"
   ]
  },
  {
   "cell_type": "code",
   "execution_count": null,
   "metadata": {},
   "outputs": [],
   "source": [
    "def predict(W, b, X):\n",
    "    \"\"\"\n",
    "    Arguments:\n",
    "    W -- the learned weight matrix (num_feature, num_class)\n",
    "    b -- the learned bias   matrix (1, num_class)\n",
    "    X -- input data (m, num_feature)\n",
    "    \n",
    "    Return:\n",
    "    prediction -- softmax vector (1, num_feature)\n",
    "    \"\"\"\n",
    "    A = soft_max(linear_forward(X, W, b))\n",
    "    \n",
    "    prediction = np.argmax(A, axis = 1)\n",
    "    \n",
    "    return prediction"
   ]
  },
  {
   "cell_type": "code",
   "execution_count": null,
   "metadata": {},
   "outputs": [],
   "source": [
    "# Training accuracy\n",
    "Y_train_hat = predict(W, b, X_train)\n",
    "\n",
    "m = X_train.shape[0]\n",
    "num_correct = m - np.count_nonzero((np.squeeze(Y_train) - Y_train_hat))\n",
    "\n",
    "print(\"Training accuracy: %f\" % float(num_correct / m * 100.0) + \"%\" )"
   ]
  },
  {
   "cell_type": "code",
   "execution_count": null,
   "metadata": {},
   "outputs": [],
   "source": [
    "# Testing accuracy\n",
    "Y_test_hat = predict(W, b, X_test)\n",
    "\n",
    "m = X_test.shape[0]\n",
    "num_correct = m - np.count_nonzero((np.squeeze(Y_test) - Y_test_hat))\n",
    "\n",
    "print(\"Testing accuracy: %f\" % float(num_correct / m * 100.0) + \"%\" )"
   ]
  },
  {
   "cell_type": "markdown",
   "metadata": {},
   "source": [
    "OK! We got nearly 90% of accuracy for both training and testing data using the simple linear classifier. In the next notebook, we will build a deeper network which includes more non-linear units to improve the accuracy"
   ]
  },
  {
   "cell_type": "markdown",
   "metadata": {},
   "source": [
    "## Appendix: Math for binary logistic regression\n",
    "### For one example $x = \\{x_1, \\dots, x_n \\}$, \n",
    "we have $w = \\{w_1, \\dots, w_n \\}$, and $b$\n",
    "\n",
    "$$z = \\sum\\limits_{i=1}^{n} w_i x_i + b$$\n",
    "\n",
    "$$a = \\sigma(z) = \\frac{1}{1+e^{-z}}$$\n",
    "\n",
    "Then, the cost function is \n",
    "$$ \\mathcal{L}(a, y) =  - y  \\log(a) - (1-y )  \\log(1-a)$$\n",
    "\n",
    "\n",
    "\n",
    "\n",
    "Now we derive the derivatives for gradient decent:\n",
    "\n",
    "$$da = -\\frac{y}{a} +\\frac{1-y}{1-a}$$\n",
    "$$dz = da*a*(1-a) = a - y$$\n",
    "$$dw_i = dz * x = (a - y)*x_i$$\n",
    "$$db = dz = a - y$$\n",
    "\n",
    "### For vectorization and m training examples:\n",
    "\n",
    "Given \n",
    "$$X_{(m, n)}\n",
    "=\n",
    "\\begin{bmatrix} \n",
    "\\dots x^{(1)} \\dots \\\\\n",
    "\\vdots \\\\\n",
    "\\dots x^{(m)} \\dots \\\\\n",
    "\\end{bmatrix}\n",
    "$$\n",
    "\n",
    "we need to have\n",
    "$$W_{(n, 1)}\n",
    "=\n",
    "\\begin{bmatrix} \n",
    "w_1  \\\\ \\vdots \\\\ w_n \\\\\n",
    "\\end{bmatrix}\n",
    "$$\n",
    "\n",
    "$$b_{(m, 1)}\n",
    "=\n",
    "\\begin{bmatrix} \n",
    "b_1  \\\\ \\vdots \\\\ b_m \\\\\n",
    "\\end{bmatrix}\n",
    "$$\n",
    "\n",
    "#### 1. Forward propagation:\n",
    "\n",
    "$$Z = X W + b$$\n",
    "$$A = \\sigma(Z) $$\n",
    "\n",
    "\n",
    "#### 2. The cost is then computed by summing over all training examples:\n",
    "\n",
    "$$ J = \\frac{1}{m} ||\\mathcal{L}(A, Y)||_F = \\frac{1}{m} \\sum_{i=1}^m \\mathcal{L}(a^{(i)}, y^{(i)})$$\n",
    "\n",
    "#### 3. Back propagation:\n",
    "$$dZ = A - Y $$\n",
    "$$ \\frac{\\partial J}{\\partial w} = \\frac{1}{m}X^T(A-Y)$$\n",
    "$$ \\frac{\\partial J}{\\partial b} = \\frac{1}{m} (A-Y).sum() = \\frac{1}{m} \\sum_{i=1}^m (a^{(i)}-y^{(i)})$$"
   ]
  },
  {
   "cell_type": "code",
   "execution_count": null,
   "metadata": {},
   "outputs": [],
   "source": []
  }
 ],
 "metadata": {
  "kernelspec": {
   "display_name": "Python 3",
   "language": "python",
   "name": "python3"
  },
  "language_info": {
   "codemirror_mode": {
    "name": "ipython",
    "version": 3
   },
   "file_extension": ".py",
   "mimetype": "text/x-python",
   "name": "python",
   "nbconvert_exporter": "python",
   "pygments_lexer": "ipython3",
   "version": "3.6.5"
  }
 },
 "nbformat": 4,
 "nbformat_minor": 2
}
